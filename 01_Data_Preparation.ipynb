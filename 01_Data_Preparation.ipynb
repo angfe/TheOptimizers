{
 "cells": [
  {
   "cell_type": "markdown",
   "metadata": {},
   "source": [
    "## Data Collection and Preparation"
   ]
  },
  {
   "cell_type": "markdown",
   "metadata": {},
   "source": [
    "### Import Libraries"
   ]
  },
  {
   "cell_type": "code",
   "execution_count": 61,
   "metadata": {},
   "outputs": [],
   "source": [
    "import pandas as pd\n",
    "import numpy as np\n",
    "\n",
    "import datetime as dt\n",
    "import matplotlib.pyplot as plt"
   ]
  },
  {
   "cell_type": "markdown",
   "metadata": {},
   "source": [
    "### Import Data"
   ]
  },
  {
   "cell_type": "code",
   "execution_count": 62,
   "metadata": {},
   "outputs": [],
   "source": [
    "charging_sessions_data = pd.read_csv(\"charging_sessions.csv\")\n",
    "weather_data = pd.read_csv(\"weather_burbank_airport.csv\")"
   ]
  },
  {
   "cell_type": "markdown",
   "metadata": {},
   "source": [
    "### Data Cleaning\n",
    "1. **Delete irrelevant data**\n",
    "* Upon the first glance the \"Unnamed\" attribute sticks out which is not mentioned in the team assignment pdf (TA pdf) table, investigate and probably delete if it has no purpose\n",
    "2. **Check for appropriate format**\n",
    "* Check for correct attribute type/ format (compare table attribute with the attribute in TA pdf table) > convert to actual type if it is not\n",
    "* Change UTC format to corresponding timezone\n",
    "3. **Add missing attributes**\n",
    "* Upon comparison some attributes are missing [see TA pdf] that can be found in the UserInput\n",
    "4. **Check for erroneous data**\n",
    "* Unregistered users have NaN values in UserId and UserInput > Delete their entries?\n",
    "* Check for duplicates\n",
    "* Check for null values\n",
    "* Check for uniqueness (e.g. id)\n",
    "* Check that all data lies around the same year span (delete data from 2021)\n",
    "* Check that disconnectTime is not earlier than connectionTime\n",
    "* Check for outliers"
   ]
  },
  {
   "cell_type": "markdown",
   "metadata": {},
   "source": [
    "### 1. Charging Session Data Preparation"
   ]
  },
  {
   "cell_type": "code",
   "execution_count": 63,
   "metadata": {},
   "outputs": [
    {
     "data": {
      "text/html": [
       "<div>\n",
       "<style scoped>\n",
       "    .dataframe tbody tr th:only-of-type {\n",
       "        vertical-align: middle;\n",
       "    }\n",
       "\n",
       "    .dataframe tbody tr th {\n",
       "        vertical-align: top;\n",
       "    }\n",
       "\n",
       "    .dataframe thead th {\n",
       "        text-align: right;\n",
       "    }\n",
       "</style>\n",
       "<table border=\"1\" class=\"dataframe\">\n",
       "  <thead>\n",
       "    <tr style=\"text-align: right;\">\n",
       "      <th></th>\n",
       "      <th>Unnamed: 0</th>\n",
       "      <th>id</th>\n",
       "      <th>connectionTime</th>\n",
       "      <th>disconnectTime</th>\n",
       "      <th>doneChargingTime</th>\n",
       "      <th>kWhDelivered</th>\n",
       "      <th>sessionID</th>\n",
       "      <th>siteID</th>\n",
       "      <th>spaceID</th>\n",
       "      <th>stationID</th>\n",
       "      <th>timezone</th>\n",
       "      <th>userID</th>\n",
       "      <th>userInputs</th>\n",
       "    </tr>\n",
       "  </thead>\n",
       "  <tbody>\n",
       "    <tr>\n",
       "      <th>0</th>\n",
       "      <td>0</td>\n",
       "      <td>5e23b149f9af8b5fe4b973cf</td>\n",
       "      <td>2020-01-02 13:08:54+00:00</td>\n",
       "      <td>2020-01-02 19:11:15+00:00</td>\n",
       "      <td>2020-01-02 17:31:35+00:00</td>\n",
       "      <td>25.016</td>\n",
       "      <td>1_1_179_810_2020-01-02 13:08:53.870034</td>\n",
       "      <td>1</td>\n",
       "      <td>AG-3F30</td>\n",
       "      <td>1-1-179-810</td>\n",
       "      <td>America/Los_Angeles</td>\n",
       "      <td>194.0</td>\n",
       "      <td>[{'WhPerMile': 250, 'kWhRequested': 25.0, 'mil...</td>\n",
       "    </tr>\n",
       "    <tr>\n",
       "      <th>1</th>\n",
       "      <td>1</td>\n",
       "      <td>5e23b149f9af8b5fe4b973d0</td>\n",
       "      <td>2020-01-02 13:36:50+00:00</td>\n",
       "      <td>2020-01-02 22:38:21+00:00</td>\n",
       "      <td>2020-01-02 20:18:05+00:00</td>\n",
       "      <td>33.097</td>\n",
       "      <td>1_1_193_825_2020-01-02 13:36:49.599853</td>\n",
       "      <td>1</td>\n",
       "      <td>AG-1F01</td>\n",
       "      <td>1-1-193-825</td>\n",
       "      <td>America/Los_Angeles</td>\n",
       "      <td>4275.0</td>\n",
       "      <td>[{'WhPerMile': 280, 'kWhRequested': 70.0, 'mil...</td>\n",
       "    </tr>\n",
       "    <tr>\n",
       "      <th>2</th>\n",
       "      <td>2</td>\n",
       "      <td>5e23b149f9af8b5fe4b973d1</td>\n",
       "      <td>2020-01-02 13:56:35+00:00</td>\n",
       "      <td>2020-01-03 00:39:22+00:00</td>\n",
       "      <td>2020-01-02 16:35:06+00:00</td>\n",
       "      <td>6.521</td>\n",
       "      <td>1_1_193_829_2020-01-02 13:56:35.214993</td>\n",
       "      <td>1</td>\n",
       "      <td>AG-1F03</td>\n",
       "      <td>1-1-193-829</td>\n",
       "      <td>America/Los_Angeles</td>\n",
       "      <td>344.0</td>\n",
       "      <td>[{'WhPerMile': 400, 'kWhRequested': 8.0, 'mile...</td>\n",
       "    </tr>\n",
       "    <tr>\n",
       "      <th>3</th>\n",
       "      <td>3</td>\n",
       "      <td>5e23b149f9af8b5fe4b973d2</td>\n",
       "      <td>2020-01-02 13:59:58+00:00</td>\n",
       "      <td>2020-01-02 16:38:39+00:00</td>\n",
       "      <td>2020-01-02 15:18:45+00:00</td>\n",
       "      <td>2.355</td>\n",
       "      <td>1_1_193_820_2020-01-02 13:59:58.309319</td>\n",
       "      <td>1</td>\n",
       "      <td>AG-1F04</td>\n",
       "      <td>1-1-193-820</td>\n",
       "      <td>America/Los_Angeles</td>\n",
       "      <td>1117.0</td>\n",
       "      <td>[{'WhPerMile': 400, 'kWhRequested': 8.0, 'mile...</td>\n",
       "    </tr>\n",
       "    <tr>\n",
       "      <th>4</th>\n",
       "      <td>4</td>\n",
       "      <td>5e23b149f9af8b5fe4b973d3</td>\n",
       "      <td>2020-01-02 14:00:01+00:00</td>\n",
       "      <td>2020-01-02 22:08:40+00:00</td>\n",
       "      <td>2020-01-02 18:17:30+00:00</td>\n",
       "      <td>13.375</td>\n",
       "      <td>1_1_193_819_2020-01-02 14:00:00.779967</td>\n",
       "      <td>1</td>\n",
       "      <td>AG-1F06</td>\n",
       "      <td>1-1-193-819</td>\n",
       "      <td>America/Los_Angeles</td>\n",
       "      <td>334.0</td>\n",
       "      <td>[{'WhPerMile': 400, 'kWhRequested': 16.0, 'mil...</td>\n",
       "    </tr>\n",
       "  </tbody>\n",
       "</table>\n",
       "</div>"
      ],
      "text/plain": [
       "   Unnamed: 0                        id             connectionTime  \\\n",
       "0           0  5e23b149f9af8b5fe4b973cf  2020-01-02 13:08:54+00:00   \n",
       "1           1  5e23b149f9af8b5fe4b973d0  2020-01-02 13:36:50+00:00   \n",
       "2           2  5e23b149f9af8b5fe4b973d1  2020-01-02 13:56:35+00:00   \n",
       "3           3  5e23b149f9af8b5fe4b973d2  2020-01-02 13:59:58+00:00   \n",
       "4           4  5e23b149f9af8b5fe4b973d3  2020-01-02 14:00:01+00:00   \n",
       "\n",
       "              disconnectTime           doneChargingTime  kWhDelivered  \\\n",
       "0  2020-01-02 19:11:15+00:00  2020-01-02 17:31:35+00:00        25.016   \n",
       "1  2020-01-02 22:38:21+00:00  2020-01-02 20:18:05+00:00        33.097   \n",
       "2  2020-01-03 00:39:22+00:00  2020-01-02 16:35:06+00:00         6.521   \n",
       "3  2020-01-02 16:38:39+00:00  2020-01-02 15:18:45+00:00         2.355   \n",
       "4  2020-01-02 22:08:40+00:00  2020-01-02 18:17:30+00:00        13.375   \n",
       "\n",
       "                                sessionID  siteID  spaceID    stationID  \\\n",
       "0  1_1_179_810_2020-01-02 13:08:53.870034       1  AG-3F30  1-1-179-810   \n",
       "1  1_1_193_825_2020-01-02 13:36:49.599853       1  AG-1F01  1-1-193-825   \n",
       "2  1_1_193_829_2020-01-02 13:56:35.214993       1  AG-1F03  1-1-193-829   \n",
       "3  1_1_193_820_2020-01-02 13:59:58.309319       1  AG-1F04  1-1-193-820   \n",
       "4  1_1_193_819_2020-01-02 14:00:00.779967       1  AG-1F06  1-1-193-819   \n",
       "\n",
       "              timezone  userID  \\\n",
       "0  America/Los_Angeles   194.0   \n",
       "1  America/Los_Angeles  4275.0   \n",
       "2  America/Los_Angeles   344.0   \n",
       "3  America/Los_Angeles  1117.0   \n",
       "4  America/Los_Angeles   334.0   \n",
       "\n",
       "                                          userInputs  \n",
       "0  [{'WhPerMile': 250, 'kWhRequested': 25.0, 'mil...  \n",
       "1  [{'WhPerMile': 280, 'kWhRequested': 70.0, 'mil...  \n",
       "2  [{'WhPerMile': 400, 'kWhRequested': 8.0, 'mile...  \n",
       "3  [{'WhPerMile': 400, 'kWhRequested': 8.0, 'mile...  \n",
       "4  [{'WhPerMile': 400, 'kWhRequested': 16.0, 'mil...  "
      ]
     },
     "execution_count": 63,
     "metadata": {},
     "output_type": "execute_result"
    }
   ],
   "source": [
    "charging_sessions_data.head(5)"
   ]
  },
  {
   "cell_type": "markdown",
   "metadata": {},
   "source": [
    "#### 1.1. Delete irrelevant columns"
   ]
  },
  {
   "cell_type": "code",
   "execution_count": 64,
   "metadata": {},
   "outputs": [
    {
     "data": {
      "text/plain": [
       "Index(['Unnamed: 0', 'id', 'connectionTime', 'disconnectTime',\n",
       "       'doneChargingTime', 'kWhDelivered', 'sessionID', 'siteID', 'spaceID',\n",
       "       'stationID', 'timezone', 'userID', 'userInputs'],\n",
       "      dtype='object')"
      ]
     },
     "execution_count": 64,
     "metadata": {},
     "output_type": "execute_result"
    }
   ],
   "source": [
    "charging_sessions_data.columns"
   ]
  },
  {
   "cell_type": "code",
   "execution_count": 65,
   "metadata": {},
   "outputs": [],
   "source": [
    "# delete column of attribute \"Unnamed: 0\"\n",
    "charging_sessions_data = charging_sessions_data.drop(columns=[\"Unnamed: 0\"])"
   ]
  },
  {
   "cell_type": "code",
   "execution_count": 66,
   "metadata": {},
   "outputs": [
    {
     "data": {
      "text/plain": [
       "Index(['id', 'connectionTime', 'disconnectTime', 'doneChargingTime',\n",
       "       'kWhDelivered', 'sessionID', 'siteID', 'spaceID', 'stationID',\n",
       "       'timezone', 'userID', 'userInputs'],\n",
       "      dtype='object')"
      ]
     },
     "execution_count": 66,
     "metadata": {},
     "output_type": "execute_result"
    }
   ],
   "source": [
    "charging_sessions_data.columns"
   ]
  },
  {
   "cell_type": "markdown",
   "metadata": {},
   "source": [
    "#### 1.2. Check for appropriate format"
   ]
  },
  {
   "cell_type": "code",
   "execution_count": 67,
   "metadata": {},
   "outputs": [
    {
     "data": {
      "text/plain": [
       "id                   object\n",
       "connectionTime       object\n",
       "disconnectTime       object\n",
       "doneChargingTime     object\n",
       "kWhDelivered        float64\n",
       "sessionID            object\n",
       "siteID                int64\n",
       "spaceID              object\n",
       "stationID            object\n",
       "timezone             object\n",
       "userID              float64\n",
       "userInputs           object\n",
       "dtype: object"
      ]
     },
     "execution_count": 67,
     "metadata": {},
     "output_type": "execute_result"
    }
   ],
   "source": [
    "# check types\n",
    "charging_sessions_data.dtypes"
   ]
  },
  {
   "cell_type": "code",
   "execution_count": 68,
   "metadata": {},
   "outputs": [
    {
     "data": {
      "text/plain": [
       "id                               string\n",
       "connectionTime      datetime64[ns, UTC]\n",
       "disconnectTime      datetime64[ns, UTC]\n",
       "doneChargingTime    datetime64[ns, UTC]\n",
       "kWhDelivered                    float64\n",
       "sessionID                        string\n",
       "siteID                           string\n",
       "spaceID                          string\n",
       "stationID                        string\n",
       "timezone                         string\n",
       "userID                           string\n",
       "userInputs                       string\n",
       "dtype: object"
      ]
     },
     "execution_count": 68,
     "metadata": {},
     "output_type": "execute_result"
    }
   ],
   "source": [
    "# convert attributes into the right format\n",
    "\n",
    "# convert to string\n",
    "charging_sessions_data[\"id\"] = charging_sessions_data[\"id\"].astype(\"string\")\n",
    "charging_sessions_data[\"sessionID\"] = charging_sessions_data[\"sessionID\"].astype(\"string\")\n",
    "charging_sessions_data[\"siteID\"] = charging_sessions_data[\"siteID\"].astype(\"string\")\n",
    "charging_sessions_data[\"spaceID\"] = charging_sessions_data[\"spaceID\"].astype(\"string\")\n",
    "charging_sessions_data[\"stationID\"] = charging_sessions_data[\"stationID\"].astype(\"string\")\n",
    "charging_sessions_data[\"timezone\"] = charging_sessions_data[\"timezone\"].astype(\"string\")\n",
    "charging_sessions_data[\"userID\"] = charging_sessions_data[\"userID\"].astype(\"string\")\n",
    "charging_sessions_data[\"userInputs\"] = charging_sessions_data[\"userInputs\"].astype(\"string\")\n",
    "\n",
    "# convert to datetime\n",
    "charging_sessions_data[\"connectionTime\"] = pd.to_datetime(charging_sessions_data[\"connectionTime\"])\n",
    "charging_sessions_data[\"disconnectTime\"] = pd.to_datetime(charging_sessions_data[\"disconnectTime\"])\n",
    "charging_sessions_data[\"doneChargingTime\"] = pd.to_datetime(charging_sessions_data[\"doneChargingTime\"])\n",
    "\n",
    "# convert to list > check whether userInput is already a list\n",
    "# ...\n",
    "\n",
    "charging_sessions_data.dtypes"
   ]
  },
  {
   "cell_type": "code",
   "execution_count": null,
   "metadata": {},
   "outputs": [],
   "source": []
  },
  {
   "cell_type": "markdown",
   "metadata": {},
   "source": [
    "#### 1.3. Add missing attributes"
   ]
  },
  {
   "cell_type": "code",
   "execution_count": null,
   "metadata": {},
   "outputs": [],
   "source": []
  },
  {
   "cell_type": "markdown",
   "metadata": {},
   "source": [
    "#### 1.4. Check erroneous data"
   ]
  },
  {
   "cell_type": "code",
   "execution_count": 69,
   "metadata": {},
   "outputs": [],
   "source": [
    "# Unregistered users have NaN values in UserId and UserInput > Delete their entries?\n"
   ]
  },
  {
   "cell_type": "code",
   "execution_count": 70,
   "metadata": {},
   "outputs": [],
   "source": [
    "# Check for duplicates\n"
   ]
  },
  {
   "cell_type": "code",
   "execution_count": 71,
   "metadata": {},
   "outputs": [],
   "source": [
    "# Check for null values\n"
   ]
  },
  {
   "cell_type": "code",
   "execution_count": 72,
   "metadata": {},
   "outputs": [],
   "source": [
    "# Check for uniqueness (e.g. id)\n"
   ]
  },
  {
   "cell_type": "code",
   "execution_count": 73,
   "metadata": {},
   "outputs": [],
   "source": [
      "# Check that all data lies around the same year span\n",
      "\n",
      "# plot the orginal data\n",
      "charging_sessions_data.hist(bins=40, figsize=(25,10))\n",
      "# We have decided to delete the data from 1 April 2020, as there are unusually few loans (April 2020 to September 2021) or even no data at all in between (September 2020 to January 2021).\n",
      "# To avoid distortions, the data records will be deleted from May 2020. Further analysis of the data is sufficient, as there are still enough data records available.\n",
      "\n",
      "# Create a datetime object for April 1, 2020\n",
      "import datetime\n",
      "cutoff_date = datetime.datetime(2020, 4, 1).replace(tzinfo=datetime.timezone.utc) #converted object cutoff in the same format as datetime64[ns, UTC]\n",
      "# keep only rows where the connectionTime is before the cutoff_date\n",
      "filtered_charging_sessions_data = charging_sessions_data[charging_sessions_data['connectionTime'] < cutoff_date]\n",
      "# The filtering condition (< cutoff_date) already ensures that both connectionTime and disconnectTime are before May 1st, 2020 (UTC)\n",
      "# show the plots\n",
      "filtered_charging_sessions_data.hist(bins=40, figsize=(25,10))"
   ]
  },
  {
   "cell_type": "code",
   "execution_count": 74,
   "metadata": {},
   "outputs": [],
   "source": [
    "# Check that disconnectTime is not earlier than connectionTime"
   ]
  },
  {
   "cell_type": "code",
   "execution_count": 75,
   "metadata": {},
   "outputs": [
    {
     "data": {
      "text/plain": [
       "array([[<Axes: title={'center': 'connectionTime'}>,\n",
       "        <Axes: title={'center': 'disconnectTime'}>],\n",
       "       [<Axes: title={'center': 'doneChargingTime'}>,\n",
       "        <Axes: title={'center': 'kWhDelivered'}>]], dtype=object)"
      ]
     },
     "execution_count": 75,
     "metadata": {},
     "output_type": "execute_result"
    },
    {
     "data": {
      "image/png": "[encoded data removed]",
      "text/plain": [
       "<Figure size 2500x1000 with 4 Axes>"
      ]
     },
     "metadata": {},
     "output_type": "display_data"
    }
   ],
   "source": [
    "# check for outliers\n",
    "charging_sessions_data.hist(bins=40, figsize=(25,10))"
   ]
  },
  {
   "cell_type": "markdown",
   "metadata": {},
   "source": [
    "Between September 2020 and January 2021 is a cut in data, maybe find more data on the internet or delete the data from 2021 > find cause of it"
   ]
  },
  {
   "cell_type": "markdown",
   "metadata": {},
   "source": [
    "### Airport Weather Data Preparation"
   ]
  },
  {
   "cell_type": "code",
   "execution_count": 76,
   "metadata": {},
   "outputs": [
    {
     "data": {
      "text/html": [
       "<div>\n",
       "<style scoped>\n",
       "    .dataframe tbody tr th:only-of-type {\n",
       "        vertical-align: middle;\n",
       "    }\n",
       "\n",
       "    .dataframe tbody tr th {\n",
       "        vertical-align: top;\n",
       "    }\n",
       "\n",
       "    .dataframe thead th {\n",
       "        text-align: right;\n",
       "    }\n",
       "</style>\n",
       "<table border=\"1\" class=\"dataframe\">\n",
       "  <thead>\n",
       "    <tr style=\"text-align: right;\">\n",
       "      <th></th>\n",
       "      <th>city</th>\n",
       "      <th>timestamp</th>\n",
       "      <th>temperature</th>\n",
       "      <th>cloud_cover</th>\n",
       "      <th>cloud_cover_description</th>\n",
       "      <th>pressure</th>\n",
       "      <th>windspeed</th>\n",
       "      <th>precipitation</th>\n",
       "      <th>felt_temperature</th>\n",
       "    </tr>\n",
       "  </thead>\n",
       "  <tbody>\n",
       "    <tr>\n",
       "      <th>0</th>\n",
       "      <td>Burbank</td>\n",
       "      <td>2018-01-01 08:53:00</td>\n",
       "      <td>9.0</td>\n",
       "      <td>33.0</td>\n",
       "      <td>Fair</td>\n",
       "      <td>991.75</td>\n",
       "      <td>9.0</td>\n",
       "      <td>0.0</td>\n",
       "      <td>8.0</td>\n",
       "    </tr>\n",
       "    <tr>\n",
       "      <th>1</th>\n",
       "      <td>Burbank</td>\n",
       "      <td>2018-01-01 09:53:00</td>\n",
       "      <td>9.0</td>\n",
       "      <td>33.0</td>\n",
       "      <td>Fair</td>\n",
       "      <td>992.08</td>\n",
       "      <td>0.0</td>\n",
       "      <td>0.0</td>\n",
       "      <td>9.0</td>\n",
       "    </tr>\n",
       "    <tr>\n",
       "      <th>2</th>\n",
       "      <td>Burbank</td>\n",
       "      <td>2018-01-01 10:53:00</td>\n",
       "      <td>9.0</td>\n",
       "      <td>21.0</td>\n",
       "      <td>Haze</td>\n",
       "      <td>992.08</td>\n",
       "      <td>0.0</td>\n",
       "      <td>0.0</td>\n",
       "      <td>9.0</td>\n",
       "    </tr>\n",
       "    <tr>\n",
       "      <th>3</th>\n",
       "      <td>Burbank</td>\n",
       "      <td>2018-01-01 11:53:00</td>\n",
       "      <td>9.0</td>\n",
       "      <td>29.0</td>\n",
       "      <td>Partly Cloudy</td>\n",
       "      <td>992.08</td>\n",
       "      <td>0.0</td>\n",
       "      <td>0.0</td>\n",
       "      <td>9.0</td>\n",
       "    </tr>\n",
       "    <tr>\n",
       "      <th>4</th>\n",
       "      <td>Burbank</td>\n",
       "      <td>2018-01-01 12:53:00</td>\n",
       "      <td>8.0</td>\n",
       "      <td>33.0</td>\n",
       "      <td>Fair</td>\n",
       "      <td>992.08</td>\n",
       "      <td>0.0</td>\n",
       "      <td>0.0</td>\n",
       "      <td>8.0</td>\n",
       "    </tr>\n",
       "    <tr>\n",
       "      <th>...</th>\n",
       "      <td>...</td>\n",
       "      <td>...</td>\n",
       "      <td>...</td>\n",
       "      <td>...</td>\n",
       "      <td>...</td>\n",
       "      <td>...</td>\n",
       "      <td>...</td>\n",
       "      <td>...</td>\n",
       "      <td>...</td>\n",
       "    </tr>\n",
       "    <tr>\n",
       "      <th>29239</th>\n",
       "      <td>Burbank</td>\n",
       "      <td>2021-01-01 03:53:00</td>\n",
       "      <td>13.0</td>\n",
       "      <td>33.0</td>\n",
       "      <td>Fair</td>\n",
       "      <td>986.81</td>\n",
       "      <td>0.0</td>\n",
       "      <td>0.0</td>\n",
       "      <td>13.0</td>\n",
       "    </tr>\n",
       "    <tr>\n",
       "      <th>29240</th>\n",
       "      <td>Burbank</td>\n",
       "      <td>2021-01-01 04:53:00</td>\n",
       "      <td>12.0</td>\n",
       "      <td>33.0</td>\n",
       "      <td>Fair</td>\n",
       "      <td>986.81</td>\n",
       "      <td>11.0</td>\n",
       "      <td>0.0</td>\n",
       "      <td>12.0</td>\n",
       "    </tr>\n",
       "    <tr>\n",
       "      <th>29241</th>\n",
       "      <td>Burbank</td>\n",
       "      <td>2021-01-01 05:53:00</td>\n",
       "      <td>12.0</td>\n",
       "      <td>33.0</td>\n",
       "      <td>Fair</td>\n",
       "      <td>987.47</td>\n",
       "      <td>9.0</td>\n",
       "      <td>0.0</td>\n",
       "      <td>12.0</td>\n",
       "    </tr>\n",
       "    <tr>\n",
       "      <th>29242</th>\n",
       "      <td>Burbank</td>\n",
       "      <td>2021-01-01 06:53:00</td>\n",
       "      <td>11.0</td>\n",
       "      <td>33.0</td>\n",
       "      <td>Fair</td>\n",
       "      <td>987.14</td>\n",
       "      <td>13.0</td>\n",
       "      <td>0.0</td>\n",
       "      <td>11.0</td>\n",
       "    </tr>\n",
       "    <tr>\n",
       "      <th>29243</th>\n",
       "      <td>Burbank</td>\n",
       "      <td>2021-01-01 07:53:00</td>\n",
       "      <td>10.0</td>\n",
       "      <td>33.0</td>\n",
       "      <td>Fair</td>\n",
       "      <td>987.80</td>\n",
       "      <td>6.0</td>\n",
       "      <td>0.0</td>\n",
       "      <td>10.0</td>\n",
       "    </tr>\n",
       "  </tbody>\n",
       "</table>\n",
       "<p>29244 rows × 9 columns</p>\n",
       "</div>"
      ],
      "text/plain": [
       "          city            timestamp  temperature  cloud_cover  \\\n",
       "0      Burbank  2018-01-01 08:53:00          9.0         33.0   \n",
       "1      Burbank  2018-01-01 09:53:00          9.0         33.0   \n",
       "2      Burbank  2018-01-01 10:53:00          9.0         21.0   \n",
       "3      Burbank  2018-01-01 11:53:00          9.0         29.0   \n",
       "4      Burbank  2018-01-01 12:53:00          8.0         33.0   \n",
       "...        ...                  ...          ...          ...   \n",
       "29239  Burbank  2021-01-01 03:53:00         13.0         33.0   \n",
       "29240  Burbank  2021-01-01 04:53:00         12.0         33.0   \n",
       "29241  Burbank  2021-01-01 05:53:00         12.0         33.0   \n",
       "29242  Burbank  2021-01-01 06:53:00         11.0         33.0   \n",
       "29243  Burbank  2021-01-01 07:53:00         10.0         33.0   \n",
       "\n",
       "      cloud_cover_description  pressure  windspeed  precipitation  \\\n",
       "0                        Fair    991.75        9.0            0.0   \n",
       "1                        Fair    992.08        0.0            0.0   \n",
       "2                        Haze    992.08        0.0            0.0   \n",
       "3               Partly Cloudy    992.08        0.0            0.0   \n",
       "4                        Fair    992.08        0.0            0.0   \n",
       "...                       ...       ...        ...            ...   \n",
       "29239                    Fair    986.81        0.0            0.0   \n",
       "29240                    Fair    986.81       11.0            0.0   \n",
       "29241                    Fair    987.47        9.0            0.0   \n",
       "29242                    Fair    987.14       13.0            0.0   \n",
       "29243                    Fair    987.80        6.0            0.0   \n",
       "\n",
       "       felt_temperature  \n",
       "0                   8.0  \n",
       "1                   9.0  \n",
       "2                   9.0  \n",
       "3                   9.0  \n",
       "4                   8.0  \n",
       "...                 ...  \n",
       "29239              13.0  \n",
       "29240              12.0  \n",
       "29241              12.0  \n",
       "29242              11.0  \n",
       "29243              10.0  \n",
       "\n",
       "[29244 rows x 9 columns]"
      ]
     },
     "execution_count": 76,
     "metadata": {},
     "output_type": "execute_result"
    }
   ],
   "source": [
    "weather_data"
   ]
  },
  {
   "cell_type": "markdown",
   "metadata": {},
   "source": [
    "#### Check for appropriate format"
   ]
  },
  {
   "cell_type": "code",
   "execution_count": 77,
   "metadata": {},
   "outputs": [
    {
     "data": {
      "text/plain": [
       "city                        object\n",
       "timestamp                   object\n",
       "temperature                float64\n",
       "cloud_cover                float64\n",
       "cloud_cover_description     object\n",
       "pressure                   float64\n",
       "windspeed                  float64\n",
       "precipitation              float64\n",
       "felt_temperature           float64\n",
       "dtype: object"
      ]
     },
     "execution_count": 77,
     "metadata": {},
     "output_type": "execute_result"
    }
   ],
   "source": [
    "weather_data.dtypes"
   ]
  },
  {
   "cell_type": "code",
   "execution_count": 78,
   "metadata": {},
   "outputs": [
    {
     "data": {
      "text/plain": [
       "array([[<Axes: title={'center': 'temperature'}>,\n",
       "        <Axes: title={'center': 'cloud_cover'}>],\n",
       "       [<Axes: title={'center': 'pressure'}>,\n",
       "        <Axes: title={'center': 'windspeed'}>],\n",
       "       [<Axes: title={'center': 'precipitation'}>,\n",
       "        <Axes: title={'center': 'felt_temperature'}>]], dtype=object)"
      ]
     },
     "execution_count": 78,
     "metadata": {},
     "output_type": "execute_result"
    },
    {
     "data": {
      "image/png": "[encoded data removed]",
      "text/plain": [
       "<Figure size 2500x1000 with 6 Axes>"
      ]
     },
     "metadata": {},
     "output_type": "display_data"
    }
   ],
   "source": [
    "weather_data.hist(bins=40, figsize=(25,10))"
   ]
  },
  {
   "cell_type": "markdown",
   "metadata": {},
   "source": [
    "### 4. Adding attributes"
   ]
  },
  {
   "cell_type": "code",
   "execution_count": 79,
   "metadata": {},
   "outputs": [],
   "source": [
    "import ast\n",
    "\n",
    "\n",
    "#let's convert user inputs in to list of dictionaries that we can access\n",
    "def convertStringToList(data_string):\n",
    "    # after removing missing values we wouldnt need this\n",
    "    if pd.isna(data_string):\n",
    "        return\n",
    "# Convert the string to a list (array)\n",
    "    return ast.literal_eval(data_string)\n",
    "\n",
    "#apply the funuction to all rows of userInputs\n",
    "charging_sessions_data.userInputs = charging_sessions_data.userInputs.apply(lambda x: convertStringToList(x), 0)\n"
   ]
  },
  {
   "cell_type": "code",
   "execution_count": 80,
   "metadata": {},
   "outputs": [
    {
     "name": "stdout",
     "output_type": "stream",
     "text": [
      "25.0\n"
     ]
    }
   ],
   "source": [
    "print(charging_sessions_data.userInputs[0][0][\"kWhRequested\"])"
   ]
  },
  {
   "cell_type": "code",
   "execution_count": 81,
   "metadata": {},
   "outputs": [],
   "source": [
    "def createUserInputColumn(columnName):\n",
    "    for input in  charging_sessions_data.userInputs:\n",
    "        if isinstance(input, list) == False:\n",
    "            continue\n",
    "        \n",
    "        #we only consider the last user input\n",
    "        count = len(input) - 1 \n",
    "        charging_sessions_data[columnName] = input[count][columnName]\n",
    "        count +=1\n",
    "\n",
    "\n",
    "createUserInputColumn(\"WhPerMile\")\n",
    "createUserInputColumn(\"kWhRequested\")\n",
    "createUserInputColumn(\"milesRequested\")\n",
    "createUserInputColumn(\"minutesAvailable\")\n",
    "createUserInputColumn(\"requestedDeparture\")"
   ]
  },
  {
   "cell_type": "code",
   "execution_count": 96,
   "metadata": {},
   "outputs": [
    {
     "name": "stderr",
     "output_type": "stream",
     "text": [
      "/var/folders/nf/2xng7w014d1f2mbbxqsxbwg40000gn/T/ipykernel_25395/2552613306.py:5: SettingWithCopyWarning: \n",
      "A value is trying to be set on a copy of a slice from a DataFrame.\n",
      "Try using .loc[row_indexer,col_indexer] = value instead\n",
      "\n",
      "See the caveats in the documentation: https://pandas.pydata.org/pandas-docs/stable/user_guide/indexing.html#returning-a-view-versus-a-copy\n",
      "  user_input_table['requestedDeparture'] = pd.to_datetime(user_input_table['requestedDeparture']).copy()\n"
     ]
    },
    {
     "data": {
      "text/html": [
       "<div>\n",
       "<style scoped>\n",
       "    .dataframe tbody tr th:only-of-type {\n",
       "        vertical-align: middle;\n",
       "    }\n",
       "\n",
       "    .dataframe tbody tr th {\n",
       "        vertical-align: top;\n",
       "    }\n",
       "\n",
       "    .dataframe thead th {\n",
       "        text-align: right;\n",
       "    }\n",
       "</style>\n",
       "<table border=\"1\" class=\"dataframe\">\n",
       "  <thead>\n",
       "    <tr style=\"text-align: right;\">\n",
       "      <th></th>\n",
       "      <th>userID</th>\n",
       "      <th>WhPerMile</th>\n",
       "      <th>kWhRequested</th>\n",
       "      <th>milesRequested</th>\n",
       "      <th>minutesAvailable</th>\n",
       "      <th>requestedDeparture</th>\n",
       "    </tr>\n",
       "  </thead>\n",
       "  <tbody>\n",
       "    <tr>\n",
       "      <th>0</th>\n",
       "      <td>194.0</td>\n",
       "      <td>275</td>\n",
       "      <td>22.0</td>\n",
       "      <td>80</td>\n",
       "      <td>60</td>\n",
       "      <td>2019-07-31 20:19:47+00:00</td>\n",
       "    </tr>\n",
       "    <tr>\n",
       "      <th>1</th>\n",
       "      <td>4275.0</td>\n",
       "      <td>275</td>\n",
       "      <td>22.0</td>\n",
       "      <td>80</td>\n",
       "      <td>60</td>\n",
       "      <td>2019-07-31 20:19:47+00:00</td>\n",
       "    </tr>\n",
       "    <tr>\n",
       "      <th>2</th>\n",
       "      <td>344.0</td>\n",
       "      <td>275</td>\n",
       "      <td>22.0</td>\n",
       "      <td>80</td>\n",
       "      <td>60</td>\n",
       "      <td>2019-07-31 20:19:47+00:00</td>\n",
       "    </tr>\n",
       "    <tr>\n",
       "      <th>3</th>\n",
       "      <td>1117.0</td>\n",
       "      <td>275</td>\n",
       "      <td>22.0</td>\n",
       "      <td>80</td>\n",
       "      <td>60</td>\n",
       "      <td>2019-07-31 20:19:47+00:00</td>\n",
       "    </tr>\n",
       "    <tr>\n",
       "      <th>4</th>\n",
       "      <td>334.0</td>\n",
       "      <td>275</td>\n",
       "      <td>22.0</td>\n",
       "      <td>80</td>\n",
       "      <td>60</td>\n",
       "      <td>2019-07-31 20:19:47+00:00</td>\n",
       "    </tr>\n",
       "  </tbody>\n",
       "</table>\n",
       "</div>"
      ],
      "text/plain": [
       "   userID  WhPerMile  kWhRequested  milesRequested  minutesAvailable  \\\n",
       "0   194.0        275          22.0              80                60   \n",
       "1  4275.0        275          22.0              80                60   \n",
       "2   344.0        275          22.0              80                60   \n",
       "3  1117.0        275          22.0              80                60   \n",
       "4   334.0        275          22.0              80                60   \n",
       "\n",
       "         requestedDeparture  \n",
       "0 2019-07-31 20:19:47+00:00  \n",
       "1 2019-07-31 20:19:47+00:00  \n",
       "2 2019-07-31 20:19:47+00:00  \n",
       "3 2019-07-31 20:19:47+00:00  \n",
       "4 2019-07-31 20:19:47+00:00  "
      ]
     },
     "execution_count": 96,
     "metadata": {},
     "output_type": "execute_result"
    }
   ],
   "source": [
    "#create a new table\n",
    "user_input_table = charging_sessions_data[['userID', 'WhPerMile', 'kWhRequested','milesRequested','minutesAvailable','requestedDeparture']]\n",
    "\n",
    "user_input_table.dtypes\n",
    "user_input_table['requestedDeparture'] = pd.to_datetime(user_input_table['requestedDeparture']).copy()\n",
    "user_input_table.head()"
   ]
  },
  {
   "cell_type": "code",
   "execution_count": null,
   "metadata": {},
   "outputs": [],
   "source": [
    "\n",
    "charging_sessions_data.drop(['WhPerMile', 'kWhRequested','milesRequested','minutesAvailable','requestedDeparture', 'userInputs'],1)"
   ]
  },
  {
   "cell_type": "code",
   "execution_count": null,
   "metadata": {},
   "outputs": [],
   "source": []
  }
 ],
 "metadata": {
  "kernelspec": {
   "display_name": "base",
   "language": "python",
   "name": "python3"
  },
  "language_info": {
   "codemirror_mode": {
    "name": "ipython",
    "version": 3
   },
   "file_extension": ".py",
   "mimetype": "text/x-python",
   "name": "python",
   "nbconvert_exporter": "python",
   "pygments_lexer": "ipython3",
   "version": "3.8.16"
  }
 },
 "nbformat": 4,
 "nbformat_minor": 2
}
