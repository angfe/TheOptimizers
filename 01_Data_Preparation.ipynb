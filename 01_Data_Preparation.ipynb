{
 "cells": [
  {
   "cell_type": "markdown",
   "metadata": {},
   "source": [
    "## Data Collection and Preparation"
   ]
  },
  {
   "cell_type": "markdown",
   "metadata": {},
   "source": [
    "### Import Libraries"
   ]
  },
  {
   "cell_type": "code",
   "execution_count": 1,
   "metadata": {},
   "outputs": [],
   "source": [
    "import pandas as pd\n",
    "import numpy as np\n",
    "import datetime\n",
    "import ast"
   ]
  },
  {
   "cell_type": "markdown",
   "metadata": {},
   "source": [
    "### Import Data"
   ]
  },
  {
   "cell_type": "code",
   "execution_count": 2,
   "metadata": {},
   "outputs": [],
   "source": [
    "charging_sessions_data = pd.read_csv(\"charging_sessions.csv\")\n",
    "weather_data = pd.read_csv(\"weather_burbank_airport.csv\")"
   ]
  },
  {
   "cell_type": "code",
   "execution_count": 3,
   "metadata": {},
   "outputs": [
    {
     "data": {
      "text/html": [
       "<div>\n",
       "<style scoped>\n",
       "    .dataframe tbody tr th:only-of-type {\n",
       "        vertical-align: middle;\n",
       "    }\n",
       "\n",
       "    .dataframe tbody tr th {\n",
       "        vertical-align: top;\n",
       "    }\n",
       "\n",
       "    .dataframe thead th {\n",
       "        text-align: right;\n",
       "    }\n",
       "</style>\n",
       "<table border=\"1\" class=\"dataframe\">\n",
       "  <thead>\n",
       "    <tr style=\"text-align: right;\">\n",
       "      <th></th>\n",
       "      <th>Unnamed: 0</th>\n",
       "      <th>id</th>\n",
       "      <th>connectionTime</th>\n",
       "      <th>disconnectTime</th>\n",
       "      <th>doneChargingTime</th>\n",
       "      <th>kWhDelivered</th>\n",
       "      <th>sessionID</th>\n",
       "      <th>siteID</th>\n",
       "      <th>spaceID</th>\n",
       "      <th>stationID</th>\n",
       "      <th>timezone</th>\n",
       "      <th>userID</th>\n",
       "      <th>userInputs</th>\n",
       "    </tr>\n",
       "  </thead>\n",
       "  <tbody>\n",
       "    <tr>\n",
       "      <th>0</th>\n",
       "      <td>0</td>\n",
       "      <td>5e23b149f9af8b5fe4b973cf</td>\n",
       "      <td>2020-01-02 13:08:54+00:00</td>\n",
       "      <td>2020-01-02 19:11:15+00:00</td>\n",
       "      <td>2020-01-02 17:31:35+00:00</td>\n",
       "      <td>25.016</td>\n",
       "      <td>1_1_179_810_2020-01-02 13:08:53.870034</td>\n",
       "      <td>1</td>\n",
       "      <td>AG-3F30</td>\n",
       "      <td>1-1-179-810</td>\n",
       "      <td>America/Los_Angeles</td>\n",
       "      <td>194.0</td>\n",
       "      <td>[{'WhPerMile': 250, 'kWhRequested': 25.0, 'mil...</td>\n",
       "    </tr>\n",
       "    <tr>\n",
       "      <th>1</th>\n",
       "      <td>1</td>\n",
       "      <td>5e23b149f9af8b5fe4b973d0</td>\n",
       "      <td>2020-01-02 13:36:50+00:00</td>\n",
       "      <td>2020-01-02 22:38:21+00:00</td>\n",
       "      <td>2020-01-02 20:18:05+00:00</td>\n",
       "      <td>33.097</td>\n",
       "      <td>1_1_193_825_2020-01-02 13:36:49.599853</td>\n",
       "      <td>1</td>\n",
       "      <td>AG-1F01</td>\n",
       "      <td>1-1-193-825</td>\n",
       "      <td>America/Los_Angeles</td>\n",
       "      <td>4275.0</td>\n",
       "      <td>[{'WhPerMile': 280, 'kWhRequested': 70.0, 'mil...</td>\n",
       "    </tr>\n",
       "    <tr>\n",
       "      <th>2</th>\n",
       "      <td>2</td>\n",
       "      <td>5e23b149f9af8b5fe4b973d1</td>\n",
       "      <td>2020-01-02 13:56:35+00:00</td>\n",
       "      <td>2020-01-03 00:39:22+00:00</td>\n",
       "      <td>2020-01-02 16:35:06+00:00</td>\n",
       "      <td>6.521</td>\n",
       "      <td>1_1_193_829_2020-01-02 13:56:35.214993</td>\n",
       "      <td>1</td>\n",
       "      <td>AG-1F03</td>\n",
       "      <td>1-1-193-829</td>\n",
       "      <td>America/Los_Angeles</td>\n",
       "      <td>344.0</td>\n",
       "      <td>[{'WhPerMile': 400, 'kWhRequested': 8.0, 'mile...</td>\n",
       "    </tr>\n",
       "    <tr>\n",
       "      <th>3</th>\n",
       "      <td>3</td>\n",
       "      <td>5e23b149f9af8b5fe4b973d2</td>\n",
       "      <td>2020-01-02 13:59:58+00:00</td>\n",
       "      <td>2020-01-02 16:38:39+00:00</td>\n",
       "      <td>2020-01-02 15:18:45+00:00</td>\n",
       "      <td>2.355</td>\n",
       "      <td>1_1_193_820_2020-01-02 13:59:58.309319</td>\n",
       "      <td>1</td>\n",
       "      <td>AG-1F04</td>\n",
       "      <td>1-1-193-820</td>\n",
       "      <td>America/Los_Angeles</td>\n",
       "      <td>1117.0</td>\n",
       "      <td>[{'WhPerMile': 400, 'kWhRequested': 8.0, 'mile...</td>\n",
       "    </tr>\n",
       "    <tr>\n",
       "      <th>4</th>\n",
       "      <td>4</td>\n",
       "      <td>5e23b149f9af8b5fe4b973d3</td>\n",
       "      <td>2020-01-02 14:00:01+00:00</td>\n",
       "      <td>2020-01-02 22:08:40+00:00</td>\n",
       "      <td>2020-01-02 18:17:30+00:00</td>\n",
       "      <td>13.375</td>\n",
       "      <td>1_1_193_819_2020-01-02 14:00:00.779967</td>\n",
       "      <td>1</td>\n",
       "      <td>AG-1F06</td>\n",
       "      <td>1-1-193-819</td>\n",
       "      <td>America/Los_Angeles</td>\n",
       "      <td>334.0</td>\n",
       "      <td>[{'WhPerMile': 400, 'kWhRequested': 16.0, 'mil...</td>\n",
       "    </tr>\n",
       "  </tbody>\n",
       "</table>\n",
       "</div>"
      ],
      "text/plain": [
       "   Unnamed: 0                        id             connectionTime  \\\n",
       "0           0  5e23b149f9af8b5fe4b973cf  2020-01-02 13:08:54+00:00   \n",
       "1           1  5e23b149f9af8b5fe4b973d0  2020-01-02 13:36:50+00:00   \n",
       "2           2  5e23b149f9af8b5fe4b973d1  2020-01-02 13:56:35+00:00   \n",
       "3           3  5e23b149f9af8b5fe4b973d2  2020-01-02 13:59:58+00:00   \n",
       "4           4  5e23b149f9af8b5fe4b973d3  2020-01-02 14:00:01+00:00   \n",
       "\n",
       "              disconnectTime           doneChargingTime  kWhDelivered  \\\n",
       "0  2020-01-02 19:11:15+00:00  2020-01-02 17:31:35+00:00        25.016   \n",
       "1  2020-01-02 22:38:21+00:00  2020-01-02 20:18:05+00:00        33.097   \n",
       "2  2020-01-03 00:39:22+00:00  2020-01-02 16:35:06+00:00         6.521   \n",
       "3  2020-01-02 16:38:39+00:00  2020-01-02 15:18:45+00:00         2.355   \n",
       "4  2020-01-02 22:08:40+00:00  2020-01-02 18:17:30+00:00        13.375   \n",
       "\n",
       "                                sessionID  siteID  spaceID    stationID  \\\n",
       "0  1_1_179_810_2020-01-02 13:08:53.870034       1  AG-3F30  1-1-179-810   \n",
       "1  1_1_193_825_2020-01-02 13:36:49.599853       1  AG-1F01  1-1-193-825   \n",
       "2  1_1_193_829_2020-01-02 13:56:35.214993       1  AG-1F03  1-1-193-829   \n",
       "3  1_1_193_820_2020-01-02 13:59:58.309319       1  AG-1F04  1-1-193-820   \n",
       "4  1_1_193_819_2020-01-02 14:00:00.779967       1  AG-1F06  1-1-193-819   \n",
       "\n",
       "              timezone  userID  \\\n",
       "0  America/Los_Angeles   194.0   \n",
       "1  America/Los_Angeles  4275.0   \n",
       "2  America/Los_Angeles   344.0   \n",
       "3  America/Los_Angeles  1117.0   \n",
       "4  America/Los_Angeles   334.0   \n",
       "\n",
       "                                          userInputs  \n",
       "0  [{'WhPerMile': 250, 'kWhRequested': 25.0, 'mil...  \n",
       "1  [{'WhPerMile': 280, 'kWhRequested': 70.0, 'mil...  \n",
       "2  [{'WhPerMile': 400, 'kWhRequested': 8.0, 'mile...  \n",
       "3  [{'WhPerMile': 400, 'kWhRequested': 8.0, 'mile...  \n",
       "4  [{'WhPerMile': 400, 'kWhRequested': 16.0, 'mil...  "
      ]
     },
     "execution_count": 3,
     "metadata": {},
     "output_type": "execute_result"
    }
   ],
   "source": [
    "charging_sessions_data.head(5)"
   ]
  },
  {
   "cell_type": "markdown",
   "metadata": {},
   "source": [
    "### Data Cleaning\n",
    "1. **Delete irrelevant data**\n",
    "* Check for irrelevant attributes/ colum\n",
    "2. **Check for appropriate format**\n",
    "* Check for correct attribute type/ format\n",
    "* Change UTC format to corresponding timezone\n",
    "3. **Check for erroneous data**\n",
    "* Check for duplicates\n",
    "* Check for null values\n",
    "* Check for uniqueness (e.g. id)\n",
    "* Check that all data lies around the same year span\n",
    "* Check that the datetime objects are logical (e.g. connectionTime should be earlier than disconnectTime)\n",
    "* Check for outliers\n",
    "4. **Add missing attributes**\n",
    "* Upon comparison some attributes are missing that can be found in the UserInput column"
   ]
  },
  {
   "cell_type": "markdown",
   "metadata": {},
   "source": [
    "### 1. Charging Session Data Preparation"
   ]
  },
  {
   "cell_type": "markdown",
   "metadata": {},
   "source": [
    "#### 1.1. Delete irrelevant columns"
   ]
  },
  {
   "cell_type": "code",
   "execution_count": 4,
   "metadata": {},
   "outputs": [
    {
     "data": {
      "text/plain": [
       "Index(['Unnamed: 0', 'id', 'connectionTime', 'disconnectTime',\n",
       "       'doneChargingTime', 'kWhDelivered', 'sessionID', 'siteID', 'spaceID',\n",
       "       'stationID', 'timezone', 'userID', 'userInputs'],\n",
       "      dtype='object')"
      ]
     },
     "execution_count": 4,
     "metadata": {},
     "output_type": "execute_result"
    }
   ],
   "source": [
    "charging_sessions_data.columns"
   ]
  },
  {
   "cell_type": "code",
   "execution_count": null,
   "metadata": {},
   "outputs": [],
   "source": [
    "# delete column of attribute \"Unnamed: 0\" since it serves no purpose and is not mentioned in the team assignment pdf\n",
    "charging_sessions_data = charging_sessions_data.drop(columns=[\"Unnamed: 0\"])"
   ]
  },
  {
   "cell_type": "code",
   "execution_count": 6,
   "metadata": {},
   "outputs": [
    {
     "data": {
      "text/plain": [
       "Index(['id', 'connectionTime', 'disconnectTime', 'doneChargingTime',\n",
       "       'kWhDelivered', 'sessionID', 'siteID', 'spaceID', 'stationID',\n",
       "       'timezone', 'userID', 'userInputs'],\n",
       "      dtype='object')"
      ]
     },
     "execution_count": 6,
     "metadata": {},
     "output_type": "execute_result"
    }
   ],
   "source": [
    "charging_sessions_data.columns"
   ]
  },
  {
   "cell_type": "markdown",
   "metadata": {},
   "source": [
    "#### 1.2. Check for appropriate format"
   ]
  },
  {
   "cell_type": "code",
   "execution_count": 7,
   "metadata": {},
   "outputs": [
    {
     "data": {
      "text/plain": [
       "id                   object\n",
       "connectionTime       object\n",
       "disconnectTime       object\n",
       "doneChargingTime     object\n",
       "kWhDelivered        float64\n",
       "sessionID            object\n",
       "siteID                int64\n",
       "spaceID              object\n",
       "stationID            object\n",
       "timezone             object\n",
       "userID              float64\n",
       "userInputs           object\n",
       "dtype: object"
      ]
     },
     "execution_count": 7,
     "metadata": {},
     "output_type": "execute_result"
    }
   ],
   "source": [
    "# check types\n",
    "charging_sessions_data.dtypes"
   ]
  },
  {
   "cell_type": "code",
   "execution_count": 8,
   "metadata": {},
   "outputs": [
    {
     "data": {
      "text/plain": [
       "id                       string[python]\n",
       "connectionTime      datetime64[ns, UTC]\n",
       "disconnectTime      datetime64[ns, UTC]\n",
       "doneChargingTime    datetime64[ns, UTC]\n",
       "kWhDelivered                    float64\n",
       "sessionID                string[python]\n",
       "siteID                   string[python]\n",
       "spaceID                  string[python]\n",
       "stationID                string[python]\n",
       "timezone                 string[python]\n",
       "userID                   string[python]\n",
       "userInputs               string[python]\n",
       "dtype: object"
      ]
     },
     "execution_count": 8,
     "metadata": {},
     "output_type": "execute_result"
    }
   ],
   "source": [
    "# convert attributes into the right format\n",
    "\n",
    "# convert to string\n",
    "charging_sessions_data[\"id\"] = charging_sessions_data[\"id\"].astype(\"string\")\n",
    "charging_sessions_data[\"sessionID\"] = charging_sessions_data[\"sessionID\"].astype(\"string\")\n",
    "charging_sessions_data[\"siteID\"] = charging_sessions_data[\"siteID\"].astype(\"string\")\n",
    "charging_sessions_data[\"spaceID\"] = charging_sessions_data[\"spaceID\"].astype(\"string\")\n",
    "charging_sessions_data[\"stationID\"] = charging_sessions_data[\"stationID\"].astype(\"string\")\n",
    "charging_sessions_data[\"timezone\"] = charging_sessions_data[\"timezone\"].astype(\"string\")\n",
    "charging_sessions_data[\"userID\"] = charging_sessions_data[\"userID\"].astype(\"string\")\n",
    "charging_sessions_data[\"userInputs\"] = charging_sessions_data[\"userInputs\"].astype(\"string\")\n",
    "\n",
    "# convert to datetime\n",
    "charging_sessions_data[\"connectionTime\"] = pd.to_datetime(charging_sessions_data[\"connectionTime\"])\n",
    "charging_sessions_data[\"disconnectTime\"] = pd.to_datetime(charging_sessions_data[\"disconnectTime\"])\n",
    "charging_sessions_data[\"doneChargingTime\"] = pd.to_datetime(charging_sessions_data[\"doneChargingTime\"])\n",
    "\n",
    "charging_sessions_data.dtypes"
   ]
  },
  {
   "cell_type": "markdown",
   "metadata": {},
   "source": [
    "#### 1.3. Check erroneous data"
   ]
  },
  {
   "cell_type": "markdown",
   "metadata": {},
   "source": [
    "##### Check for duplicates & delete them"
   ]
  },
  {
   "cell_type": "code",
   "execution_count": 9,
   "metadata": {},
   "outputs": [
    {
     "name": "stdout",
     "output_type": "stream",
     "text": [
      "Duplicates found\n"
     ]
    }
   ],
   "source": [
    "# Check for duplicates\n",
    "duplicated_lines = charging_sessions_data[charging_sessions_data.duplicated()]\n",
    "if duplicated_lines.empty:\n",
    "    print(\"No duplicates found\")\n",
    "else: print(\"Duplicates found\")\n",
    "       "
   ]
  },
  {
   "cell_type": "code",
   "execution_count": 10,
   "metadata": {},
   "outputs": [],
   "source": [
    "charging_sessions_data = charging_sessions_data.drop_duplicates(keep='first')"
   ]
  },
  {
   "cell_type": "code",
   "execution_count": 11,
   "metadata": {},
   "outputs": [
    {
     "name": "stdout",
     "output_type": "stream",
     "text": [
      "No duplicates found\n"
     ]
    }
   ],
   "source": [
    "# Control if duplicates have been removed\n",
    "duplicated_lines = charging_sessions_data[charging_sessions_data.duplicated()]\n",
    "if duplicated_lines.empty:\n",
    "    print(\"No duplicates found\")\n",
    "else: print(\"Duplicates found\")"
   ]
  },
  {
   "cell_type": "markdown",
   "metadata": {},
   "source": [
    "##### Check for null values (in whole lines and also within certain columns)"
   ]
  },
  {
   "cell_type": "code",
   "execution_count": 12,
   "metadata": {},
   "outputs": [
    {
     "name": "stdout",
     "output_type": "stream",
     "text": [
      "There are NO lines that only contain the values '0' or 'NaN'.\n"
     ]
    }
   ],
   "source": [
    "# Check for null values in lines\n",
    "lines_only_null_or_nan = (charging_sessions_data.isna() | (charging_sessions_data == 0)).all(axis=1)\n",
    "\n",
    "# Check if there are lines that only contain the values '0' or 'NaN'.\n",
    "if lines_only_null_or_nan.any():\n",
    "    print(\"There are lines that only contain the values '0' or 'NaN'.\")\n",
    "else:\n",
    "    print(\"There are NO lines that only contain the values '0' or 'NaN'.\")"
   ]
  },
  {
   "cell_type": "code",
   "execution_count": 13,
   "metadata": {},
   "outputs": [
    {
     "name": "stdout",
     "output_type": "stream",
     "text": [
      "There are NO lines in which the ‘kWhDelivered’ column contains the value 0.\n",
      "There are NO lines in which the ‘kWhDelivered’ column contains the value 'NaN'\n",
      "There are NO lines in which the ‘kWhDelivered’ column contains negative values.\n"
     ]
    }
   ],
   "source": [
    "# Filter lines in which the ‘kWhDelivered’ column has the value 0\n",
    "zero_values = charging_sessions_data[charging_sessions_data['kWhDelivered'] == 0]\n",
    "\n",
    "# Check if such lines exist and print them\n",
    "if not zero_values.empty:\n",
    "    print(\"There are lines in which the ‘kWhDelivered’ column contains the value 0:\")\n",
    "    print(zero_values)\n",
    "else:\n",
    "    print(\"There are NO lines in which the ‘kWhDelivered’ column contains the value 0.\")\n",
    "\n",
    "# Filter lines in which the ‘kWhDelivered’ column has the value NaN\n",
    "nan_values = charging_sessions_data[charging_sessions_data['kWhDelivered'].isna()]\n",
    "\n",
    "# Check if such lines exist and print them\n",
    "if not nan_values.empty:\n",
    "    print(\"There are lines in which the ‘kWhDelivered’ column contains the value 'NaN':\")\n",
    "    print(nan_values)\n",
    "else:\n",
    "    print(\"There are NO lines in which the ‘kWhDelivered’ column contains the value 'NaN'\")\n",
    "\n",
    "# Filter lines in which the ‘kWhDelivered’ column has negative values\n",
    "negative_values = charging_sessions_data[charging_sessions_data['kWhDelivered'] < 0]\n",
    "\n",
    "# Check if such lines exist and print them\n",
    "if not negative_values.empty:\n",
    "    print(\"There are lines in which the ‘kWhDelivered’ column contains negative values:\")\n",
    "    print(negative_values)\n",
    "else:\n",
    "    print(\"There are NO lines in which the ‘kWhDelivered’ column contains negative values.\")\n"
   ]
  },
  {
   "cell_type": "code",
   "execution_count": 14,
   "metadata": {},
   "outputs": [
    {
     "name": "stdout",
     "output_type": "stream",
     "text": [
      "There are NO lines in which the ‘connctionTime’ column contains the value NaT.\n",
      "There are NO lines in which the ‘diconnectTime’ column contains the value NaT.\n",
      "There are lines in which the ‘doneChargingTime’ column contains the value NaT:\n",
      "Amount:\n",
      "4087\n"
     ]
    }
   ],
   "source": [
    "# Filter lines in which the ‘connectionTime’ column has the value \"NaT\"\n",
    "nat_values = charging_sessions_data[charging_sessions_data['connectionTime'].isna()]\n",
    "\n",
    "# Check if such lines exist and print them\n",
    "if not nat_values.empty:\n",
    "    print(\"There are lines in which the ‘connectionTime’ column contains the value NaT:\")\n",
    "    print(nat_values)\n",
    "else:\n",
    "    print(\"There are NO lines in which the ‘connctionTime’ column contains the value NaT.\")\n",
    "\n",
    "# Filter lines in which the ‘diconnectTime’ column has the value \"NaT\"\n",
    "nat_values = charging_sessions_data[charging_sessions_data['disconnectTime'].isna()]\n",
    "\n",
    "# Check if such lines exist and print them\n",
    "if not nat_values.empty:\n",
    "    print(\"There are lines in which the ‘disconnectTime’ column contains the value NaT:\")\n",
    "    print(nat_values)\n",
    "else:\n",
    "    print(\"There are NO lines in which the ‘diconnectTime’ column contains the value NaT.\")\n",
    "\n",
    "# Filter lines in which the ‘doneChargingTime’ column has the value \"NaT\"\n",
    "nat_values = charging_sessions_data[charging_sessions_data['doneChargingTime'].isna()]\n",
    "\n",
    "# Check if such lines exist and print them\n",
    "if not nat_values.empty:\n",
    "    print(\"There are lines in which the ‘doneChargingTime’ column contains the value NaT:\")\n",
    "  \n",
    "else:\n",
    "    print(\"There are NO lines in which the ‘doneChargingTime’ column contains the value NaT.\")\n",
    "\n",
    "print(\"Amount:\")\n",
    "print(len(nat_values))\n"
   ]
  },
  {
   "cell_type": "markdown",
   "metadata": {},
   "source": [
    "##### Check for uniqueness"
   ]
  },
  {
   "cell_type": "code",
   "execution_count": 15,
   "metadata": {},
   "outputs": [
    {
     "name": "stdout",
     "output_type": "stream",
     "text": [
      "The ‘id’ column only contains unique values.\n"
     ]
    }
   ],
   "source": [
    "# Check for uniqueness in column 'id'\n",
    "if charging_sessions_data['id'].duplicated().any():\n",
    "    print(\"The ‘id’ column contains duplicate values.\")\n",
    "else:\n",
    "    print(\"The ‘id’ column only contains unique values.\")\n"
   ]
  },
  {
   "cell_type": "code",
   "execution_count": 16,
   "metadata": {},
   "outputs": [
    {
     "name": "stdout",
     "output_type": "stream",
     "text": [
      "The ‘sessionID’ column only contains unique values.\n"
     ]
    }
   ],
   "source": [
    "# Check for uniqueness in column 'sessionID'\n",
    "if charging_sessions_data['sessionID'].duplicated().any():\n",
    "    print(\"The ‘sessionID’ column contains duplicate values.\")\n",
    "else:\n",
    "    print(\"The ‘sessionID’ column only contains unique values.\")\n"
   ]
  },
  {
   "cell_type": "markdown",
   "metadata": {},
   "source": [
    "##### Check that the time details are in the correct order"
   ]
  },
  {
   "cell_type": "code",
   "execution_count": 17,
   "metadata": {},
   "outputs": [
    {
     "name": "stdout",
     "output_type": "stream",
     "text": [
      "65037\n"
     ]
    }
   ],
   "source": [
    "# Check that doneChargingTime is not earlier than or the same as connectionTime\n",
    "# Print length of data frame to compare later\n",
    "print(len(charging_sessions_data))"
   ]
  },
  {
   "cell_type": "code",
   "execution_count": 18,
   "metadata": {},
   "outputs": [
    {
     "name": "stdout",
     "output_type": "stream",
     "text": [
      "There is at least one line where 'connectionTime' is not earlier than 'doneChargingTime'.\n"
     ]
    }
   ],
   "source": [
    "# Check if doneChargingTime is later than connectionTime\n",
    "if (charging_sessions_data['connectionTime'] <= charging_sessions_data['doneChargingTime']).all():\n",
    "    print(\"The 'connectionTime' is always earlier than 'doneChargingTime'.\")\n",
    "else:\n",
    "    print(\"There is at least one line where 'connectionTime' is not earlier than 'doneChargingTime'.\")"
   ]
  },
  {
   "cell_type": "code",
   "execution_count": null,
   "metadata": {},
   "outputs": [
    {
     "name": "stdout",
     "output_type": "stream",
     "text": [
      "There are error lines\n",
      "There is at least one line where 'connectionTime' is later than 'doneChargingTime':\n",
      "                             id            connectionTime  \\\n",
      "22219  5c942ca4f9af8b06b04b3bb4 2019-03-05 19:13:55+00:00   \n",
      "22253  5c957e1cf9af8b42f440af03 2019-03-06 20:26:30+00:00   \n",
      "23562  5cca3a22f9af8b49aaa4cba0 2019-04-15 20:24:13+00:00   \n",
      "23586  5ccb8ba6f9af8b4d9721df00 2019-04-16 16:11:08+00:00   \n",
      "27689  5d856f1ff9af8b0c7bdf245c 2019-09-04 16:35:04+00:00   \n",
      "27740  5d86c0a5f9af8b1022a81870 2019-09-05 18:44:57+00:00   \n",
      "29295  5dcdffbdf9af8b220a19be8b 2019-10-29 17:22:32+00:00   \n",
      "31285  5bc91740f9af8b0dc677b860 2018-05-04 19:08:37+00:00   \n",
      "31287  5bc91740f9af8b0dc677b862 2018-05-04 19:23:52+00:00   \n",
      "31398  5bc917d0f9af8b0dc677b8d1 2018-05-07 20:47:49+00:00   \n",
      "31403  5bc917d0f9af8b0dc677b8d6 2018-05-07 20:47:51+00:00   \n",
      "31407  5bc917d0f9af8b0dc677b8da 2018-05-07 20:47:55+00:00   \n",
      "35840  5bc92c03f9af8b0dc677ca2b 2018-07-19 15:57:19+00:00   \n",
      "38884  5bc937f6f9af8b0dc677d60f 2018-08-29 05:25:08+00:00   \n",
      "39875  5bc93c1cf9af8b0dc677d9ee 2018-09-11 15:15:01+00:00   \n",
      "41263  5bc94185f9af8b0dc677df5a 2018-09-27 22:58:45+00:00   \n",
      "42102  5be2fcd7f9af8b2b0edfa0ee 2018-10-08 19:14:32+00:00   \n",
      "42342  5be2fdcaf9af8b2b0edfa1de 2018-10-11 15:58:47+00:00   \n",
      "42347  5be2fdcaf9af8b2b0edfa1e3 2018-10-11 16:14:05+00:00   \n",
      "42434  5be2fe25f9af8b2b0edfa23a 2018-10-12 15:59:07+00:00   \n",
      "42452  5be2fe25f9af8b2b0edfa24c 2018-10-12 18:40:37+00:00   \n",
      "42618  5be2febbf9af8b2b0edfa2f2 2018-10-15 15:42:14+00:00   \n",
      "43484  5be634cdf9af8b34ee236867 2018-10-26 20:27:53+00:00   \n",
      "44040  5c2e85daf9af8b13dab07564 2018-11-04 02:10:08+00:00   \n",
      "44041  5c2e85daf9af8b13dab07565 2018-11-04 03:56:17+00:00   \n",
      "44042  5c2e85daf9af8b13dab07566 2018-11-04 04:33:19+00:00   \n",
      "44199  5c2e8674f9af8b13dab07603 2018-11-07 03:40:06+00:00   \n",
      "51110  5e7fec1af9af8b1fc4c8d3e0 2020-03-12 20:20:15+00:00   \n",
      "62146  5ce1f55bf9af8b1e78b1315c 2019-05-03 18:35:38+00:00   \n",
      "\n",
      "                 disconnectTime          doneChargingTime  kWhDelivered  \\\n",
      "22219 2019-03-05 22:50:39+00:00 2019-03-05 19:12:56+00:00      0.706655   \n",
      "22253 2019-03-07 01:48:54+00:00 2019-03-06 20:25:34+00:00      1.046381   \n",
      "23562 2019-04-15 23:39:04+00:00 2019-04-15 20:23:14+00:00      0.635278   \n",
      "23586 2019-04-16 19:10:48+00:00 2019-04-16 16:10:11+00:00      0.585977   \n",
      "27689 2019-09-05 00:44:27+00:00 2019-09-04 16:34:05+00:00      1.584500   \n",
      "27740 2019-09-06 00:55:19+00:00 2019-09-05 18:43:57+00:00      1.067230   \n",
      "29295 2019-10-31 01:57:20+00:00 2019-10-29 17:21:33+00:00      6.316210   \n",
      "31285 2018-05-04 22:07:47+00:00 2018-05-04 19:07:40+00:00      0.551722   \n",
      "31287 2018-05-05 00:04:15+00:00 2018-05-04 19:22:52+00:00      0.912297   \n",
      "31398 2018-05-08 01:32:46+00:00 2018-05-07 20:47:49+00:00      3.870000   \n",
      "31403 2018-05-08 02:16:00+00:00 2018-05-07 20:47:50+00:00     14.967000   \n",
      "31407 2018-05-08 03:02:19+00:00 2018-05-07 20:47:55+00:00      2.628000   \n",
      "35840 2018-07-19 22:49:56+00:00 2018-07-19 15:56:21+00:00      1.336511   \n",
      "38884 2018-08-29 13:08:26+00:00 2018-08-29 05:24:11+00:00      1.416971   \n",
      "39875 2018-09-11 20:38:32+00:00 2018-09-11 15:14:02+00:00      1.050226   \n",
      "41263 2018-09-28 21:58:26+00:00 2018-09-27 22:57:45+00:00      4.443405   \n",
      "42102 2018-10-09 00:54:50+00:00 2018-10-08 19:13:32+00:00      1.104249   \n",
      "42342 2018-10-11 20:06:02+00:00 2018-10-11 15:57:47+00:00      0.714337   \n",
      "42347 2018-10-12 01:39:58+00:00 2018-10-11 16:13:08+00:00      1.831132   \n",
      "42434 2018-10-13 00:19:49+00:00 2018-10-12 15:58:09+00:00      1.441147   \n",
      "42452 2018-10-13 00:34:06+00:00 2018-10-12 18:39:38+00:00      1.145796   \n",
      "42618 2018-10-15 20:39:47+00:00 2018-10-15 15:41:14+00:00      0.858423   \n",
      "43484 2018-10-27 00:56:04+00:00 2018-10-26 20:26:53+00:00      0.871274   \n",
      "44040 2018-11-04 02:55:22+00:00 2018-11-04 01:40:31+00:00      0.988647   \n",
      "44041 2018-11-04 04:15:00+00:00 2018-11-04 03:14:55+00:00      0.521000   \n",
      "44042 2018-11-04 04:52:37+00:00 2018-11-04 03:52:29+00:00      2.051000   \n",
      "44199 2018-11-10 02:39:58+00:00 2018-11-07 03:39:08+00:00     12.220490   \n",
      "51110 2020-03-13 00:22:12+00:00 2020-03-12 20:20:06+00:00      0.773462   \n",
      "62146 2019-05-03 22:10:42+00:00 2019-05-03 18:34:40+00:00      5.803000   \n",
      "\n",
      "                                     sessionID siteID  spaceID     stationID  \\\n",
      "22219   2_39_78_367_2019-03-05 19:13:55.113078      2   CA-494   2-39-78-367   \n",
      "22253   2_39_78_367_2019-03-06 20:26:30.479644      2   CA-494   2-39-78-367   \n",
      "23562   2_39_78_367_2019-04-15 20:24:13.365605      2   CA-494   2-39-78-367   \n",
      "23586   2_39_78_367_2019-04-16 16:11:07.939710      2   CA-494   2-39-78-367   \n",
      "27689   2_39_78_367_2019-09-04 16:35:04.129327      2   CA-494   2-39-78-367   \n",
      "27740   2_39_78_360_2019-09-05 18:44:57.410168      2   CA-322   2-39-78-360   \n",
      "29295   2_39_78_367_2019-10-29 17:22:32.086306      2   CA-494   2-39-78-367   \n",
      "31285   2_39_78_363_2018-05-04 19:08:36.642114      2   CA-320   2-39-78-363   \n",
      "31287   2_39_78_367_2018-05-04 19:23:51.897392      2   CA-494   2-39-78-367   \n",
      "31398   2_39_89_439_2018-05-07 20:47:49.332393      2   CA-501   2-39-89-439   \n",
      "31403  2_39_139_567_2018-05-07 20:47:50.862655      2   CA-513  2-39-139-567   \n",
      "31407    2_39_90_26_2018-05-07 20:47:55.140558      2   CA-316    2-39-90-26   \n",
      "35840   2_39_78_366_2018-07-19 15:57:19.401534      2   CA-323   2-39-78-366   \n",
      "38884   2_39_78_363_2018-08-29 05:25:08.060741      2   CA-320   2-39-78-363   \n",
      "39875   2_39_78_367_2018-09-11 15:15:01.134140      2   CA-494   2-39-78-367   \n",
      "41263   2_39_78_367_2018-09-27 22:58:45.258702      2   CA-494   2-39-78-367   \n",
      "42102   2_39_78_361_2018-10-08 19:14:31.785466      2   CA-493   2-39-78-361   \n",
      "42342   2_39_78_360_2018-10-11 15:58:47.225713      2   CA-322   2-39-78-360   \n",
      "42347   2_39_78_365_2018-10-11 16:14:04.947860      2   CA-321   2-39-78-365   \n",
      "42434   2_39_78_360_2018-10-12 15:59:07.388438      2   CA-322   2-39-78-360   \n",
      "42452   2_39_78_365_2018-10-12 18:40:37.245744      2   CA-321   2-39-78-365   \n",
      "42618   2_39_78_360_2018-10-15 15:42:13.677037      2   CA-322   2-39-78-360   \n",
      "43484   2_39_78_365_2018-10-26 20:27:53.015524      2   CA-321   2-39-78-365   \n",
      "44040   2_39_78_364_2018-11-04 02:10:08.418061      2   CA-495   2-39-78-364   \n",
      "44041   2_39_129_17_2018-11-04 03:56:16.817298      2   CA-307   2-39-129-17   \n",
      "44042   2_39_139_28_2018-11-04 04:33:18.910858      2   CA-303   2-39-139-28   \n",
      "44199   2_39_78_360_2018-11-07 03:40:06.365714      2   CA-322   2-39-78-360   \n",
      "51110   2_39_78_366_2020-03-12 20:20:14.592808      2   CA-323   2-39-78-366   \n",
      "62146   1_1_191_789_2019-05-03 18:35:38.365680      1  AG-4F52   1-1-191-789   \n",
      "\n",
      "                  timezone  userID  \\\n",
      "22219  America/Los_Angeles    <NA>   \n",
      "22253  America/Los_Angeles    <NA>   \n",
      "23562  America/Los_Angeles  1154.0   \n",
      "23586  America/Los_Angeles  1154.0   \n",
      "27689  America/Los_Angeles    <NA>   \n",
      "27740  America/Los_Angeles    <NA>   \n",
      "29295  America/Los_Angeles  1470.0   \n",
      "31285  America/Los_Angeles    <NA>   \n",
      "31287  America/Los_Angeles    <NA>   \n",
      "31398  America/Los_Angeles    <NA>   \n",
      "31403  America/Los_Angeles    <NA>   \n",
      "31407  America/Los_Angeles    <NA>   \n",
      "35840  America/Los_Angeles    <NA>   \n",
      "38884  America/Los_Angeles    <NA>   \n",
      "39875  America/Los_Angeles    <NA>   \n",
      "41263  America/Los_Angeles    <NA>   \n",
      "42102  America/Los_Angeles    <NA>   \n",
      "42342  America/Los_Angeles    <NA>   \n",
      "42347  America/Los_Angeles    <NA>   \n",
      "42434  America/Los_Angeles    <NA>   \n",
      "42452  America/Los_Angeles    <NA>   \n",
      "42618  America/Los_Angeles    <NA>   \n",
      "43484  America/Los_Angeles    <NA>   \n",
      "44040  America/Los_Angeles    <NA>   \n",
      "44041  America/Los_Angeles    <NA>   \n",
      "44042  America/Los_Angeles   516.0   \n",
      "44199  America/Los_Angeles    <NA>   \n",
      "51110  America/Los_Angeles   560.0   \n",
      "62146  America/Los_Angeles   483.0   \n",
      "\n",
      "                                              userInputs  \n",
      "22219                                               <NA>  \n",
      "22253                                               <NA>  \n",
      "23562  [{'WhPerMile': 308, 'kWhRequested': 9.24, 'mil...  \n",
      "23586  [{'WhPerMile': 308, 'kWhRequested': 6.16, 'mil...  \n",
      "27689                                               <NA>  \n",
      "27740                                               <NA>  \n",
      "29295  [{'WhPerMile': 292, 'kWhRequested': 14.6, 'mil...  \n",
      "31285                                               <NA>  \n",
      "31287                                               <NA>  \n",
      "31398                                               <NA>  \n",
      "31403                                               <NA>  \n",
      "31407                                               <NA>  \n",
      "35840                                               <NA>  \n",
      "38884                                               <NA>  \n",
      "39875                                               <NA>  \n",
      "41263                                               <NA>  \n",
      "42102                                               <NA>  \n",
      "42342                                               <NA>  \n",
      "42347                                               <NA>  \n",
      "42434                                               <NA>  \n",
      "42452                                               <NA>  \n",
      "42618                                               <NA>  \n",
      "43484                                               <NA>  \n",
      "44040                                               <NA>  \n",
      "44041                                               <NA>  \n",
      "44042  [{'WhPerMile': 250, 'kWhRequested': 12.5, 'mil...  \n",
      "44199                                               <NA>  \n",
      "51110  [{'WhPerMile': 400, 'kWhRequested': 32.0, 'mil...  \n",
      "62146  [{'WhPerMile': 350, 'kWhRequested': 7.0, 'mile...  \n",
      "Error lines have been deleted\n"
     ]
    }
   ],
   "source": [
    "# Filter the lines where connectionTime >= doneChargingTime\n",
    "error_lines = charging_sessions_data[charging_sessions_data['connectionTime'] >= charging_sessions_data['doneChargingTime']]\n",
    "\n",
    "if error_lines.any:\n",
    "    print('There are error lines')\n",
    "else: print('There are NO error lines')\n",
    "    \n",
    "\n",
    "# Test if there are error lines\n",
    "if not error_lines.empty:\n",
    "    print(\"There is at least one line where 'connectionTime' is later than 'doneChargingTime':\")\n",
    "    print(error_lines)\n",
    "    \n",
    "  # Delete error lines\n",
    "    charging_sessions_data.drop(error_lines.index, inplace=True)\n",
    "    print(\"Error lines have been deleted\")\n",
    "else:\n",
    "    print(\"All lines are correct: 'connectionTime' is always earlier than 'doneChargingTime'.\")"
   ]
  },
  {
   "cell_type": "code",
   "execution_count": 20,
   "metadata": {},
   "outputs": [
    {
     "name": "stdout",
     "output_type": "stream",
     "text": [
      "All error lines have been deleted.\n"
     ]
    }
   ],
   "source": [
    "# Check whether there are errors after deletion\n",
    "if (charging_sessions_data['connectionTime'] >= charging_sessions_data['doneChargingTime']).any():\n",
    "    print(\"There are still error lines\")\n",
    "else:\n",
    "    print(\"All error lines have been deleted.\")"
   ]
  },
  {
   "cell_type": "code",
   "execution_count": 21,
   "metadata": {},
   "outputs": [
    {
     "name": "stdout",
     "output_type": "stream",
     "text": [
      "65008\n"
     ]
    }
   ],
   "source": [
    "# Compare length of data frame\n",
    "print(len(charging_sessions_data))"
   ]
  },
  {
   "cell_type": "code",
   "execution_count": 22,
   "metadata": {},
   "outputs": [
    {
     "name": "stdout",
     "output_type": "stream",
     "text": [
      "All lines are correct: 'connectionTime' always earlier than 'doneChargingTime'.\n"
     ]
    }
   ],
   "source": [
    "# Filter the lines where connectionTime >= doneChargingTime\n",
    "error_line = charging_sessions_data[charging_sessions_data['connectionTime'] >= charging_sessions_data['doneChargingTime']]\n",
    "\n",
    "# Test if there are error lines\n",
    "if not error_line.empty:\n",
    "    print(\"There is at least one line where 'connectionTime' is later than 'doneChargingTime':\")\n",
    "    print(error_line)\n",
    "else:\n",
    "    print(\"All lines are correct: 'connectionTime' always earlier than 'doneChargingTime'.\")"
   ]
  },
  {
   "cell_type": "code",
   "execution_count": 23,
   "metadata": {},
   "outputs": [
    {
     "name": "stdout",
     "output_type": "stream",
     "text": [
      "There is at least one line where 'doneChargingTime' is not earlier than 'disconnectTime'.\n"
     ]
    }
   ],
   "source": [
    "# Check if doneChargingTime is earlier than disconnectTime\n",
    "if (charging_sessions_data['doneChargingTime'] < charging_sessions_data['disconnectTime']).all():\n",
    "    print(\"The 'doneChargingTime' is always earlier than the 'disconnectTime'.\")\n",
    "else:\n",
    "    print(\"There is at least one line where 'doneChargingTime' is not earlier than 'disconnectTime'.\")"
   ]
  },
  {
   "cell_type": "code",
   "execution_count": null,
   "metadata": {},
   "outputs": [
    {
     "name": "stdout",
     "output_type": "stream",
     "text": [
      "There are error lines\n",
      "There is at least one line where 'doneChargingTime' is later than 'disconnectTime':\n",
      "                             id            connectionTime  \\\n",
      "12     5e23b149f9af8b5fe4b973db 2020-01-02 15:04:38+00:00   \n",
      "20     5e23b149f9af8b5fe4b973e3 2020-01-02 15:28:47+00:00   \n",
      "25     5e23b149f9af8b5fe4b973e8 2020-01-02 15:42:05+00:00   \n",
      "26     5e23b149f9af8b5fe4b973e9 2020-01-02 15:57:24+00:00   \n",
      "33     5e23b149f9af8b5fe4b973f0 2020-01-02 16:34:35+00:00   \n",
      "...                         ...                       ...   \n",
      "65028  5d2fbdd3f9af8b4d0dd0d546 2019-07-01 19:20:31+00:00   \n",
      "65030  5d2fbdd3f9af8b4d0dd0d548 2019-07-01 20:01:07+00:00   \n",
      "65033  5d2fbdd3f9af8b4d0dd0d54b 2019-07-01 21:58:45+00:00   \n",
      "65034  5d2fbdd3f9af8b4d0dd0d54c 2019-07-01 22:02:21+00:00   \n",
      "65035  5d2fbdd3f9af8b4d0dd0d54d 2019-07-01 22:23:44+00:00   \n",
      "\n",
      "                 disconnectTime          doneChargingTime  kWhDelivered  \\\n",
      "12    2020-01-02 22:08:39+00:00 2020-01-02 22:09:36+00:00        25.567   \n",
      "20    2020-01-02 19:01:54+00:00 2020-01-02 19:02:51+00:00         7.417   \n",
      "25    2020-01-02 21:58:45+00:00 2020-01-02 21:59:42+00:00        36.701   \n",
      "26    2020-01-02 16:35:37+00:00 2020-01-02 16:36:34+00:00         3.689   \n",
      "33    2020-01-02 18:49:41+00:00 2020-01-02 18:50:38+00:00         7.120   \n",
      "...                         ...                       ...           ...   \n",
      "65028 2019-07-02 00:16:32+00:00 2019-07-02 00:16:42+00:00        26.324   \n",
      "65030 2019-07-02 00:32:26+00:00 2019-07-02 00:32:59+00:00        21.588   \n",
      "65033 2019-07-02 00:39:48+00:00 2019-07-02 00:40:21+00:00        16.864   \n",
      "65034 2019-07-02 00:58:50+00:00 2019-07-02 00:59:23+00:00        18.335   \n",
      "65035 2019-07-02 02:03:36+00:00 2019-07-02 02:04:06+00:00        22.815   \n",
      "\n",
      "                                    sessionID siteID  spaceID    stationID  \\\n",
      "12     1_1_178_824_2020-01-02 15:04:38.051735      1  AG-1F07  1-1-178-824   \n",
      "20     1_1_193_827_2020-01-02 15:28:46.685366      1  AG-1F02  1-1-193-827   \n",
      "25     1_1_179_797_2020-01-02 15:42:05.217965      1  AG-3F23  1-1-179-797   \n",
      "26     1_1_179_781_2020-01-02 15:57:23.951170      1  AG-3F31  1-1-179-781   \n",
      "33     1_1_179_790_2020-01-02 16:34:34.999200      1  AG-3F19  1-1-179-790   \n",
      "...                                       ...    ...      ...          ...   \n",
      "65028  1_1_179_783_2019-07-01 19:20:30.955300      1  AG-3F29  1-1-179-783   \n",
      "65030  1_1_179_800_2019-07-01 20:01:06.782562      1  AG-3F32  1-1-179-800   \n",
      "65033  1_1_179_794_2019-07-01 21:58:44.571011      1  AG-3F20  1-1-179-794   \n",
      "65034  1_1_191_807_2019-07-01 22:02:20.810735      1  AG-4F47  1-1-191-807   \n",
      "65035  1_1_179_781_2019-07-01 22:23:32.496137      1  AG-3F31  1-1-179-781   \n",
      "\n",
      "                  timezone  userID  \\\n",
      "12     America/Los_Angeles   528.0   \n",
      "20     America/Los_Angeles  1283.0   \n",
      "25     America/Los_Angeles   474.0   \n",
      "26     America/Los_Angeles   724.0   \n",
      "33     America/Los_Angeles  2276.0   \n",
      "...                    ...     ...   \n",
      "65028  America/Los_Angeles   458.0   \n",
      "65030  America/Los_Angeles  1479.0   \n",
      "65033  America/Los_Angeles   364.0   \n",
      "65034  America/Los_Angeles  2050.0   \n",
      "65035  America/Los_Angeles  1626.0   \n",
      "\n",
      "                                              userInputs  \n",
      "12     [{'WhPerMile': 250, 'kWhRequested': 50.0, 'mil...  \n",
      "20     [{'WhPerMile': 350, 'kWhRequested': 42.0, 'mil...  \n",
      "25     [{'WhPerMile': 400, 'kWhRequested': 32.0, 'mil...  \n",
      "26     [{'WhPerMile': 400, 'kWhRequested': 8.0, 'mile...  \n",
      "33     [{'WhPerMile': 600, 'kWhRequested': 18.0, 'mil...  \n",
      "...                                                  ...  \n",
      "65028  [{'WhPerMile': 400, 'kWhRequested': 8.0, 'mile...  \n",
      "65030  [{'WhPerMile': 275, 'kWhRequested': 19.25, 'mi...  \n",
      "65033  [{'WhPerMile': 400, 'kWhRequested': 40.0, 'mil...  \n",
      "65034  [{'WhPerMile': 333, 'kWhRequested': 29.97, 'mi...  \n",
      "65035  [{'WhPerMile': 200, 'kWhRequested': 34.0, 'mil...  \n",
      "\n",
      "[4387 rows x 12 columns]\n",
      "Error lines have been deleted\n"
     ]
    }
   ],
   "source": [
    "# Filter the lines where doneChargingTime > disconnectTime\n",
    "error_lines = charging_sessions_data[charging_sessions_data['doneChargingTime'] > charging_sessions_data['disconnectTime']]\n",
    "\n",
    "if error_lines.any:\n",
    "    print('There are error lines')\n",
    "else: print('There are NO error lines')\n",
    "    \n",
    "\n",
    "# Test if there are error lines\n",
    "if not error_lines.empty:\n",
    "    print(\"There is at least one line where 'doneChargingTime' is later than 'disconnectTime':\")\n",
    "    print(error_lines)\n",
    "    \n",
    "  # Delete error lines\n",
    "    charging_sessions_data.drop(error_lines.index, inplace=True)\n",
    "    print(\"Error lines have been deleted\")\n",
    "else:\n",
    "    print(\"All lines are correct: 'doneChargingTime' is always earlier than 'disconnectTime'.\")"
   ]
  },
  {
   "cell_type": "code",
   "execution_count": 25,
   "metadata": {},
   "outputs": [
    {
     "name": "stdout",
     "output_type": "stream",
     "text": [
      "60621\n"
     ]
    }
   ],
   "source": [
    "# Compare length of data frame\n",
    "print(len(charging_sessions_data))"
   ]
  },
  {
   "cell_type": "code",
   "execution_count": 26,
   "metadata": {},
   "outputs": [
    {
     "name": "stdout",
     "output_type": "stream",
     "text": [
      "The 'connectionTime' is always earlier than the 'disconnectTime'.\n"
     ]
    }
   ],
   "source": [
    "# Check that disconnectTime is not earlier than connectionTime\n",
    "if (charging_sessions_data['connectionTime'] < charging_sessions_data['disconnectTime']).all():\n",
    "    print(\"The 'connectionTime' is always earlier than the 'disconnectTime'.\")\n",
    "else:\n",
    "    print(\"There is at least one line where 'connectionTime' is not earlier than 'disconnectTime'.\")"
   ]
  },
  {
   "cell_type": "code",
   "execution_count": 27,
   "metadata": {},
   "outputs": [
    {
     "data": {
      "text/plain": [
       "array([[<Axes: title={'center': 'connectionTime'}>,\n",
       "        <Axes: title={'center': 'disconnectTime'}>],\n",
       "       [<Axes: title={'center': 'doneChargingTime'}>,\n",
       "        <Axes: title={'center': 'kWhDelivered'}>]], dtype=object)"
      ]
     },
     "execution_count": 27,
     "metadata": {},
     "output_type": "execute_result"
    },
    {
     "data": {
      "image/png": "[encoded data removed]",
      "text/plain": [
       "<Figure size 2500x1000 with 4 Axes>"
      ]
     },
     "metadata": {},
     "output_type": "display_data"
    },
    {
     "data": {
      "image/png": "[encoded data removed]",
      "text/plain": [
       "<Figure size 2500x1000 with 4 Axes>"
      ]
     },
     "metadata": {},
     "output_type": "display_data"
    }
   ],
   "source": [
    "# Check that all data lies around the same year span\n",
    "\n",
    "# Plot the orginal data\n",
    "charging_sessions_data.hist(bins=40, figsize=(25,10))\n",
    "# We have decided to delete the data from 1 April 2020, as there are unusually few loans (April 2020 to September 2021) or even no data at all in between (September 2020 to January 2021).\n",
    "# To avoid distortions, the data records will be deleted from May 2020. Further analysis of the data is sufficient, as there are still enough data records available.\n",
    "\n",
    "# Create a datetime object for April 1, 2020\n",
    "cutoff_date = datetime.datetime(2020, 4, 1).replace(tzinfo=datetime.timezone.utc) # converted object cutoff in the same format as datetime64[ns, UTC]\n",
    "# Keep only rows where the connectionTime is before the cutoff_date\n",
    "filtered_charging_sessions_data = charging_sessions_data[charging_sessions_data['connectionTime'] < cutoff_date]\n",
    "# The filtering condition (< cutoff_date) already ensures that both connectionTime and disconnectTime are before May 1st, 2020 (UTC)\n",
    "# Show the plots\n",
    "filtered_charging_sessions_data.hist(bins=40, figsize=(25,10))"
   ]
  },
  {
   "cell_type": "markdown",
   "metadata": {},
   "source": [
    "#### 1.4. Add missing attributes"
   ]
  },
  {
   "cell_type": "code",
   "execution_count": 28,
   "metadata": {},
   "outputs": [
    {
     "name": "stderr",
     "output_type": "stream",
     "text": [
      "C:\\Users\\angel\\AppData\\Local\\Temp\\ipykernel_21336\\1745358555.py:10: FutureWarning: the convert_dtype parameter is deprecated and will be removed in a future version.  Do ``ser.astype(object).apply()`` instead if you want ``convert_dtype=False``.\n",
      "  charging_sessions_data.userInputs = charging_sessions_data.userInputs.apply(lambda x: convertStringToList(x), 0)\n",
      "C:\\Users\\angel\\AppData\\Local\\Temp\\ipykernel_21336\\1745358555.py:33: SettingWithCopyWarning: \n",
      "A value is trying to be set on a copy of a slice from a DataFrame.\n",
      "Try using .loc[row_indexer,col_indexer] = value instead\n",
      "\n",
      "See the caveats in the documentation: https://pandas.pydata.org/pandas-docs/stable/user_guide/indexing.html#returning-a-view-versus-a-copy\n",
      "  user_input_table['requestedDeparture'] = pd.to_datetime(user_input_table['requestedDeparture']).copy()\n"
     ]
    },
    {
     "data": {
      "text/html": [
       "<div>\n",
       "<style scoped>\n",
       "    .dataframe tbody tr th:only-of-type {\n",
       "        vertical-align: middle;\n",
       "    }\n",
       "\n",
       "    .dataframe tbody tr th {\n",
       "        vertical-align: top;\n",
       "    }\n",
       "\n",
       "    .dataframe thead th {\n",
       "        text-align: right;\n",
       "    }\n",
       "</style>\n",
       "<table border=\"1\" class=\"dataframe\">\n",
       "  <thead>\n",
       "    <tr style=\"text-align: right;\">\n",
       "      <th></th>\n",
       "      <th>userID</th>\n",
       "      <th>WhPerMile</th>\n",
       "      <th>kWhRequested</th>\n",
       "      <th>milesRequested</th>\n",
       "      <th>minutesAvailable</th>\n",
       "      <th>requestedDeparture</th>\n",
       "    </tr>\n",
       "  </thead>\n",
       "  <tbody>\n",
       "    <tr>\n",
       "      <th>0</th>\n",
       "      <td>194.0</td>\n",
       "      <td>333</td>\n",
       "      <td>16.65</td>\n",
       "      <td>50</td>\n",
       "      <td>191</td>\n",
       "      <td>2019-07-02 01:47:08</td>\n",
       "    </tr>\n",
       "    <tr>\n",
       "      <th>1</th>\n",
       "      <td>4275.0</td>\n",
       "      <td>333</td>\n",
       "      <td>16.65</td>\n",
       "      <td>50</td>\n",
       "      <td>191</td>\n",
       "      <td>2019-07-02 01:47:08</td>\n",
       "    </tr>\n",
       "    <tr>\n",
       "      <th>2</th>\n",
       "      <td>344.0</td>\n",
       "      <td>333</td>\n",
       "      <td>16.65</td>\n",
       "      <td>50</td>\n",
       "      <td>191</td>\n",
       "      <td>2019-07-02 01:47:08</td>\n",
       "    </tr>\n",
       "    <tr>\n",
       "      <th>3</th>\n",
       "      <td>1117.0</td>\n",
       "      <td>333</td>\n",
       "      <td>16.65</td>\n",
       "      <td>50</td>\n",
       "      <td>191</td>\n",
       "      <td>2019-07-02 01:47:08</td>\n",
       "    </tr>\n",
       "    <tr>\n",
       "      <th>4</th>\n",
       "      <td>334.0</td>\n",
       "      <td>333</td>\n",
       "      <td>16.65</td>\n",
       "      <td>50</td>\n",
       "      <td>191</td>\n",
       "      <td>2019-07-02 01:47:08</td>\n",
       "    </tr>\n",
       "  </tbody>\n",
       "</table>\n",
       "</div>"
      ],
      "text/plain": [
       "   userID  WhPerMile  kWhRequested  milesRequested  minutesAvailable  \\\n",
       "0   194.0        333         16.65              50               191   \n",
       "1  4275.0        333         16.65              50               191   \n",
       "2   344.0        333         16.65              50               191   \n",
       "3  1117.0        333         16.65              50               191   \n",
       "4   334.0        333         16.65              50               191   \n",
       "\n",
       "   requestedDeparture  \n",
       "0 2019-07-02 01:47:08  \n",
       "1 2019-07-02 01:47:08  \n",
       "2 2019-07-02 01:47:08  \n",
       "3 2019-07-02 01:47:08  \n",
       "4 2019-07-02 01:47:08  "
      ]
     },
     "execution_count": 28,
     "metadata": {},
     "output_type": "execute_result"
    }
   ],
   "source": [
    "# let's convert user inputs in to list of dictionaries that we can access\n",
    "def convertStringToList(data_string):\n",
    "    # after removing missing values we wouldnt need this\n",
    "    if pd.isna(data_string):\n",
    "        return\n",
    "# convert the string to a list (array)\n",
    "    return ast.literal_eval(data_string)\n",
    "\n",
    "# apply the funuction to all rows of userInputs\n",
    "charging_sessions_data.userInputs = charging_sessions_data.userInputs.apply(lambda x: convertStringToList(x), 0)\n",
    "\n",
    "def createUserInputColumn(columnName):\n",
    "    for input in  charging_sessions_data.userInputs:\n",
    "        if isinstance(input, list) == False:\n",
    "            continue\n",
    "        \n",
    "        # we only consider the last user input\n",
    "        count = len(input) - 1 \n",
    "        charging_sessions_data[columnName] = input[count][columnName]\n",
    "        count +=1\n",
    "\n",
    "\n",
    "createUserInputColumn(\"WhPerMile\")\n",
    "createUserInputColumn(\"kWhRequested\")\n",
    "createUserInputColumn(\"milesRequested\")\n",
    "createUserInputColumn(\"minutesAvailable\")\n",
    "createUserInputColumn(\"requestedDeparture\")\n",
    "\n",
    "# create a new table\n",
    "user_input_table = charging_sessions_data[['userID', 'WhPerMile', 'kWhRequested','milesRequested','minutesAvailable','requestedDeparture']]\n",
    "\n",
    "user_input_table.dtypes\n",
    "user_input_table['requestedDeparture'] = pd.to_datetime(user_input_table['requestedDeparture']).copy()\n",
    "user_input_table.head()\n",
    "\n",
    "# charging_sessions_data.drop(['WhPerMile', 'kWhRequested','milesRequested','minutesAvailable','requestedDeparture', 'userInputs'], axis = 1)\n"
   ]
  },
  {
   "cell_type": "markdown",
   "metadata": {},
   "source": [
    "### Export Cleaned Data"
   ]
  },
  {
   "cell_type": "code",
   "execution_count": 29,
   "metadata": {},
   "outputs": [],
   "source": [
    "charging_sessions_data.to_csv('cleaned_data.csv', index=False)\n",
    "user_input_table.to_csv('registered_user_input.csv', index=False)"
   ]
  },
  {
   "cell_type": "markdown",
   "metadata": {},
   "source": [
    "### Airport Weather Data Preparation"
   ]
  },
  {
   "cell_type": "code",
   "execution_count": 30,
   "metadata": {},
   "outputs": [
    {
     "data": {
      "text/html": [
       "<div>\n",
       "<style scoped>\n",
       "    .dataframe tbody tr th:only-of-type {\n",
       "        vertical-align: middle;\n",
       "    }\n",
       "\n",
       "    .dataframe tbody tr th {\n",
       "        vertical-align: top;\n",
       "    }\n",
       "\n",
       "    .dataframe thead th {\n",
       "        text-align: right;\n",
       "    }\n",
       "</style>\n",
       "<table border=\"1\" class=\"dataframe\">\n",
       "  <thead>\n",
       "    <tr style=\"text-align: right;\">\n",
       "      <th></th>\n",
       "      <th>city</th>\n",
       "      <th>timestamp</th>\n",
       "      <th>temperature</th>\n",
       "      <th>cloud_cover</th>\n",
       "      <th>cloud_cover_description</th>\n",
       "      <th>pressure</th>\n",
       "      <th>windspeed</th>\n",
       "      <th>precipitation</th>\n",
       "      <th>felt_temperature</th>\n",
       "    </tr>\n",
       "  </thead>\n",
       "  <tbody>\n",
       "    <tr>\n",
       "      <th>0</th>\n",
       "      <td>Burbank</td>\n",
       "      <td>2018-01-01 08:53:00</td>\n",
       "      <td>9.0</td>\n",
       "      <td>33.0</td>\n",
       "      <td>Fair</td>\n",
       "      <td>991.75</td>\n",
       "      <td>9.0</td>\n",
       "      <td>0.0</td>\n",
       "      <td>8.0</td>\n",
       "    </tr>\n",
       "    <tr>\n",
       "      <th>1</th>\n",
       "      <td>Burbank</td>\n",
       "      <td>2018-01-01 09:53:00</td>\n",
       "      <td>9.0</td>\n",
       "      <td>33.0</td>\n",
       "      <td>Fair</td>\n",
       "      <td>992.08</td>\n",
       "      <td>0.0</td>\n",
       "      <td>0.0</td>\n",
       "      <td>9.0</td>\n",
       "    </tr>\n",
       "    <tr>\n",
       "      <th>2</th>\n",
       "      <td>Burbank</td>\n",
       "      <td>2018-01-01 10:53:00</td>\n",
       "      <td>9.0</td>\n",
       "      <td>21.0</td>\n",
       "      <td>Haze</td>\n",
       "      <td>992.08</td>\n",
       "      <td>0.0</td>\n",
       "      <td>0.0</td>\n",
       "      <td>9.0</td>\n",
       "    </tr>\n",
       "    <tr>\n",
       "      <th>3</th>\n",
       "      <td>Burbank</td>\n",
       "      <td>2018-01-01 11:53:00</td>\n",
       "      <td>9.0</td>\n",
       "      <td>29.0</td>\n",
       "      <td>Partly Cloudy</td>\n",
       "      <td>992.08</td>\n",
       "      <td>0.0</td>\n",
       "      <td>0.0</td>\n",
       "      <td>9.0</td>\n",
       "    </tr>\n",
       "    <tr>\n",
       "      <th>4</th>\n",
       "      <td>Burbank</td>\n",
       "      <td>2018-01-01 12:53:00</td>\n",
       "      <td>8.0</td>\n",
       "      <td>33.0</td>\n",
       "      <td>Fair</td>\n",
       "      <td>992.08</td>\n",
       "      <td>0.0</td>\n",
       "      <td>0.0</td>\n",
       "      <td>8.0</td>\n",
       "    </tr>\n",
       "    <tr>\n",
       "      <th>...</th>\n",
       "      <td>...</td>\n",
       "      <td>...</td>\n",
       "      <td>...</td>\n",
       "      <td>...</td>\n",
       "      <td>...</td>\n",
       "      <td>...</td>\n",
       "      <td>...</td>\n",
       "      <td>...</td>\n",
       "      <td>...</td>\n",
       "    </tr>\n",
       "    <tr>\n",
       "      <th>29239</th>\n",
       "      <td>Burbank</td>\n",
       "      <td>2021-01-01 03:53:00</td>\n",
       "      <td>13.0</td>\n",
       "      <td>33.0</td>\n",
       "      <td>Fair</td>\n",
       "      <td>986.81</td>\n",
       "      <td>0.0</td>\n",
       "      <td>0.0</td>\n",
       "      <td>13.0</td>\n",
       "    </tr>\n",
       "    <tr>\n",
       "      <th>29240</th>\n",
       "      <td>Burbank</td>\n",
       "      <td>2021-01-01 04:53:00</td>\n",
       "      <td>12.0</td>\n",
       "      <td>33.0</td>\n",
       "      <td>Fair</td>\n",
       "      <td>986.81</td>\n",
       "      <td>11.0</td>\n",
       "      <td>0.0</td>\n",
       "      <td>12.0</td>\n",
       "    </tr>\n",
       "    <tr>\n",
       "      <th>29241</th>\n",
       "      <td>Burbank</td>\n",
       "      <td>2021-01-01 05:53:00</td>\n",
       "      <td>12.0</td>\n",
       "      <td>33.0</td>\n",
       "      <td>Fair</td>\n",
       "      <td>987.47</td>\n",
       "      <td>9.0</td>\n",
       "      <td>0.0</td>\n",
       "      <td>12.0</td>\n",
       "    </tr>\n",
       "    <tr>\n",
       "      <th>29242</th>\n",
       "      <td>Burbank</td>\n",
       "      <td>2021-01-01 06:53:00</td>\n",
       "      <td>11.0</td>\n",
       "      <td>33.0</td>\n",
       "      <td>Fair</td>\n",
       "      <td>987.14</td>\n",
       "      <td>13.0</td>\n",
       "      <td>0.0</td>\n",
       "      <td>11.0</td>\n",
       "    </tr>\n",
       "    <tr>\n",
       "      <th>29243</th>\n",
       "      <td>Burbank</td>\n",
       "      <td>2021-01-01 07:53:00</td>\n",
       "      <td>10.0</td>\n",
       "      <td>33.0</td>\n",
       "      <td>Fair</td>\n",
       "      <td>987.80</td>\n",
       "      <td>6.0</td>\n",
       "      <td>0.0</td>\n",
       "      <td>10.0</td>\n",
       "    </tr>\n",
       "  </tbody>\n",
       "</table>\n",
       "<p>29244 rows × 9 columns</p>\n",
       "</div>"
      ],
      "text/plain": [
       "          city            timestamp  temperature  cloud_cover  \\\n",
       "0      Burbank  2018-01-01 08:53:00          9.0         33.0   \n",
       "1      Burbank  2018-01-01 09:53:00          9.0         33.0   \n",
       "2      Burbank  2018-01-01 10:53:00          9.0         21.0   \n",
       "3      Burbank  2018-01-01 11:53:00          9.0         29.0   \n",
       "4      Burbank  2018-01-01 12:53:00          8.0         33.0   \n",
       "...        ...                  ...          ...          ...   \n",
       "29239  Burbank  2021-01-01 03:53:00         13.0         33.0   \n",
       "29240  Burbank  2021-01-01 04:53:00         12.0         33.0   \n",
       "29241  Burbank  2021-01-01 05:53:00         12.0         33.0   \n",
       "29242  Burbank  2021-01-01 06:53:00         11.0         33.0   \n",
       "29243  Burbank  2021-01-01 07:53:00         10.0         33.0   \n",
       "\n",
       "      cloud_cover_description  pressure  windspeed  precipitation  \\\n",
       "0                        Fair    991.75        9.0            0.0   \n",
       "1                        Fair    992.08        0.0            0.0   \n",
       "2                        Haze    992.08        0.0            0.0   \n",
       "3               Partly Cloudy    992.08        0.0            0.0   \n",
       "4                        Fair    992.08        0.0            0.0   \n",
       "...                       ...       ...        ...            ...   \n",
       "29239                    Fair    986.81        0.0            0.0   \n",
       "29240                    Fair    986.81       11.0            0.0   \n",
       "29241                    Fair    987.47        9.0            0.0   \n",
       "29242                    Fair    987.14       13.0            0.0   \n",
       "29243                    Fair    987.80        6.0            0.0   \n",
       "\n",
       "       felt_temperature  \n",
       "0                   8.0  \n",
       "1                   9.0  \n",
       "2                   9.0  \n",
       "3                   9.0  \n",
       "4                   8.0  \n",
       "...                 ...  \n",
       "29239              13.0  \n",
       "29240              12.0  \n",
       "29241              12.0  \n",
       "29242              11.0  \n",
       "29243              10.0  \n",
       "\n",
       "[29244 rows x 9 columns]"
      ]
     },
     "execution_count": 30,
     "metadata": {},
     "output_type": "execute_result"
    }
   ],
   "source": [
    "weather_data"
   ]
  },
  {
   "cell_type": "markdown",
   "metadata": {},
   "source": [
    "#### Check for appropriate format"
   ]
  },
  {
   "cell_type": "code",
   "execution_count": 31,
   "metadata": {},
   "outputs": [
    {
     "data": {
      "text/plain": [
       "city                        object\n",
       "timestamp                   object\n",
       "temperature                float64\n",
       "cloud_cover                float64\n",
       "cloud_cover_description     object\n",
       "pressure                   float64\n",
       "windspeed                  float64\n",
       "precipitation              float64\n",
       "felt_temperature           float64\n",
       "dtype: object"
      ]
     },
     "execution_count": 31,
     "metadata": {},
     "output_type": "execute_result"
    }
   ],
   "source": [
    "weather_data.dtypes"
   ]
  },
  {
   "cell_type": "code",
   "execution_count": 32,
   "metadata": {},
   "outputs": [
    {
     "data": {
      "text/plain": [
       "array([[<Axes: title={'center': 'temperature'}>,\n",
       "        <Axes: title={'center': 'cloud_cover'}>],\n",
       "       [<Axes: title={'center': 'pressure'}>,\n",
       "        <Axes: title={'center': 'windspeed'}>],\n",
       "       [<Axes: title={'center': 'precipitation'}>,\n",
       "        <Axes: title={'center': 'felt_temperature'}>]], dtype=object)"
      ]
     },
     "execution_count": 32,
     "metadata": {},
     "output_type": "execute_result"
    },
    {
     "data": {
      "image/png": "[encoded data removed]",
      "text/plain": [
       "<Figure size 2500x1000 with 6 Axes>"
      ]
     },
     "metadata": {},
     "output_type": "display_data"
    }
   ],
   "source": [
    "weather_data.hist(bins=40, figsize=(25,10))"
   ]
  }
 ],
 "metadata": {
  "kernelspec": {
   "display_name": "base",
   "language": "python",
   "name": "python3"
  },
  "language_info": {
   "codemirror_mode": {
    "name": "ipython",
    "version": 3
   },
   "file_extension": ".py",
   "mimetype": "text/x-python",
   "name": "python",
   "nbconvert_exporter": "python",
   "pygments_lexer": "ipython3",
   "version": "3.12.3"
  }
 },
 "nbformat": 4,
 "nbformat_minor": 2
}
