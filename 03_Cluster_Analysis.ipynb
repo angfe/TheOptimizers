{
 "cells": [
  {
   "cell_type": "markdown",
   "metadata": {},
   "source": [
    "## Cluster Analysis"
   ]
  },
  {
   "cell_type": "markdown",
   "metadata": {},
   "source": [
    "### Import Libraries"
   ]
  },
  {
   "cell_type": "code",
   "execution_count": null,
   "metadata": {},
   "outputs": [],
   "source": [
    "import pandas as pd\n",
    "import numpy as np\n",
    "\n",
    "import datetime as dt\n",
    "import matplotlib.pyplot as plt"
   ]
  },
  {
   "cell_type": "markdown",
   "metadata": {},
   "source": [
    "### Import Data"
   ]
  },
  {
   "cell_type": "code",
   "execution_count": null,
   "metadata": {},
   "outputs": [],
   "source": [
    "charging_sessions_data = pd.read_csv(\"cleaned_data.csv\")\n",
    "weather_data = pd.read_csv(\"weather_burbank_airport.csv\")\n",
    "\n",
    "charging_sessions_data.head(5)"
   ]
  },
  {
   "cell_type": "markdown",
   "metadata": {},
   "source": [
    "### Cluster Analysis of Archetypical Charging Events\n",
    "1. **Define possible Archetypical Charging Events**\n",
    "* Identify archetypical charging events to do the clusters around\n",
    "* Define appropriate names for these clusters\n",
    "2. **Identify Best Approach**\n",
    "* Test the unsupervised machine learning method options to do the analysis\n",
    "    * K-means\n",
    "    * K-medoid\n",
    "3. **Validate the Clusters**\n",
    "* Evaluate the accuracy and performance of the cluster analysis\n",
    "    * Intracluster distance (distance between data points inside the cluster)\n",
    "    * Intercluster distance (distance between data points in different clusters)"
   ]
  },
  {
   "cell_type": "markdown",
   "metadata": {},
   "source": [
    "### 1. Define possible Archetypical Charging Events"
   ]
  },
  {
   "cell_type": "code",
   "execution_count": null,
   "metadata": {},
   "outputs": [],
   "source": []
  },
  {
   "cell_type": "markdown",
   "metadata": {},
   "source": [
    "### 2. Identify Best Approach"
   ]
  },
  {
   "cell_type": "code",
   "execution_count": null,
   "metadata": {},
   "outputs": [],
   "source": []
  },
  {
   "cell_type": "markdown",
   "metadata": {},
   "source": [
    "### 3. Validate the Clusters"
   ]
  },
  {
   "cell_type": "code",
   "execution_count": null,
   "metadata": {},
   "outputs": [],
   "source": []
  }
 ],
 "metadata": {
  "kernelspec": {
   "display_name": "base",
   "language": "python",
   "name": "python3"
  },
  "language_info": {
   "name": "python",
   "version": "3.12.3"
  }
 },
 "nbformat": 4,
 "nbformat_minor": 2
}
