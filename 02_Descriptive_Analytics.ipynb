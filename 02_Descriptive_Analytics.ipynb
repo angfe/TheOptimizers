{
 "cells": [
  {
   "cell_type": "markdown",
   "metadata": {},
   "source": [
    "## Descriptive Analytics"
   ]
  },
  {
   "cell_type": "markdown",
   "metadata": {},
   "source": [
    "### Import Libraries"
   ]
  },
  {
   "cell_type": "code",
   "execution_count": null,
   "metadata": {},
   "outputs": [],
   "source": [
    "import pandas as pd\n",
    "import numpy as np\n",
    "\n",
    "import datetime as dt\n",
    "import matplotlib.pyplot as plt"
   ]
  },
  {
   "cell_type": "markdown",
   "metadata": {},
   "source": [
    "### Import Data"
   ]
  },
  {
   "cell_type": "code",
   "execution_count": null,
   "metadata": {},
   "outputs": [],
   "source": [
    "charging_sessions_data = pd.read_csv()\n",
    "weather_data = pd.read_csv(\"weather_burbank_airport.csv\")"
   ]
  },
  {
   "cell_type": "markdown",
   "metadata": {},
   "source": [
    "### Operational Performance and Statistics on Charging Hubs\n",
    "1. **Temporal Patterns and Seasonality**\n",
    "* Demonstrate in a figure how the number of charging events varies during *the day, the week and between seasons*\n",
    "- day **(Karoline)**\n",
    "- week **(Marietta)**\n",
    "- seasons (-)\n",
    "* Note down observed patterns and possible explaination for them\n",
    "2. **Key Performance Indicators (KPIs)**\n",
    "* Define three time-dependent KPIs (to include in a dashboard for the hub operator):\n",
    "    1. Peak and Off-Utilization Time (per Site) **(Marietta)**\n",
    "    2. Idle Time per Hour per SiteID (disconnect - chargingdone) **(Angela)**\n",
    "    3. Average Energy Deliverd per Session per SiteID per Hour **(CoCo)**\n",
    "* Requirements for KPIs:\n",
    "    * Must provide an immediate overview of the current hub operation\n",
    "    * Show how the hub operation is doing in terms of *utilization or other business-related aspects*\n",
    "* Provide explaination for each KPI selection in relation to the requirements and if necessary provide references\n",
    "* Calculate *hourly values* for the KPIs and visualize them over time\n",
    "* Note down observed trends and possible explainations for them\n",
    "3. **Site Characteristics** ***(Simon)***\n",
    "* Find out which of the two sites is supplying the private and public charging hub data\n",
    "* Combine data from the tasks before to determine the difference in the operation of private and public charging hub data\n",
    "* Note down explanation and reasoning behind the decision"
   ]
  },
  {
   "cell_type": "markdown",
   "metadata": {},
   "source": [
    "### 1. Temporal Patterns and Seasonality"
   ]
  },
  {
   "cell_type": "code",
   "execution_count": null,
   "metadata": {},
   "outputs": [],
   "source": [
    "# Demonstrate how the number of charging events varies during the day\n"
   ]
  },
  {
   "cell_type": "code",
   "execution_count": null,
   "metadata": {},
   "outputs": [],
   "source": [
    "# Demonstrate how the number of charging events varies during the week\n"
   ]
  },
  {
   "cell_type": "code",
   "execution_count": null,
   "metadata": {},
   "outputs": [],
   "source": [
    "# Demonstrate how the number of charging events varies between the seasons\n"
   ]
  },
  {
   "cell_type": "markdown",
   "metadata": {},
   "source": [
    "Observed Trends are ..."
   ]
  },
  {
   "cell_type": "markdown",
   "metadata": {},
   "source": [
    "### 2. Key Performance Indicators (KPIs)"
   ]
  },
  {
   "cell_type": "markdown",
   "metadata": {},
   "source": [
    "We have choosen the following three time-dependent KPIs [...] because [...]."
   ]
  },
  {
   "cell_type": "code",
   "execution_count": null,
   "metadata": {},
   "outputs": [],
   "source": [
    "# Calculate hourly values of the KPIs\n"
   ]
  },
  {
   "cell_type": "code",
   "execution_count": null,
   "metadata": {},
   "outputs": [],
   "source": [
    "# Visualize hourly values of the KPIs over time\n"
   ]
  },
  {
   "cell_type": "markdown",
   "metadata": {},
   "source": [
    "### 3. Site Characteristics"
   ]
  },
  {
   "cell_type": "code",
   "execution_count": null,
   "metadata": {},
   "outputs": [],
   "source": [
    "# Determine which of the two sites provided public or private data\n"
   ]
  },
  {
   "cell_type": "markdown",
   "metadata": {},
   "source": [
    "The data with ... is public because ..."
   ]
  }
 ],
 "metadata": {
  "kernelspec": {
   "display_name": "base",
   "language": "python",
   "name": "python3"
  },
  "language_info": {
   "name": "python",
   "version": "3.12.3"
  }
 },
 "nbformat": 4,
 "nbformat_minor": 2
}
