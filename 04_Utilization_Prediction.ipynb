{
 "cells": [
  {
   "cell_type": "markdown",
   "metadata": {},
   "source": [
    "## Utilization Prediction"
   ]
  },
  {
   "cell_type": "markdown",
   "metadata": {},
   "source": [
    "### Import Libraries"
   ]
  },
  {
   "cell_type": "code",
   "execution_count": 1,
   "metadata": {},
   "outputs": [],
   "source": [
    "import pandas as pd\n",
    "import numpy as np\n",
    "\n",
    "import datetime as dt\n",
    "import matplotlib.pyplot as plt"
   ]
  },
  {
   "cell_type": "markdown",
   "metadata": {},
   "source": [
    "### Import Data"
   ]
  },
  {
   "cell_type": "code",
   "execution_count": 2,
   "metadata": {},
   "outputs": [
    {
     "data": {
      "text/html": [
       "<div>\n",
       "<style scoped>\n",
       "    .dataframe tbody tr th:only-of-type {\n",
       "        vertical-align: middle;\n",
       "    }\n",
       "\n",
       "    .dataframe tbody tr th {\n",
       "        vertical-align: top;\n",
       "    }\n",
       "\n",
       "    .dataframe thead th {\n",
       "        text-align: right;\n",
       "    }\n",
       "</style>\n",
       "<table border=\"1\" class=\"dataframe\">\n",
       "  <thead>\n",
       "    <tr style=\"text-align: right;\">\n",
       "      <th></th>\n",
       "      <th>id</th>\n",
       "      <th>connectionTime</th>\n",
       "      <th>disconnectTime</th>\n",
       "      <th>doneChargingTime</th>\n",
       "      <th>kWhDelivered</th>\n",
       "      <th>sessionID</th>\n",
       "      <th>siteID</th>\n",
       "      <th>spaceID</th>\n",
       "      <th>stationID</th>\n",
       "      <th>timezone</th>\n",
       "      <th>userID</th>\n",
       "      <th>userInputs</th>\n",
       "      <th>WhPerMile</th>\n",
       "      <th>kWhRequested</th>\n",
       "      <th>milesRequested</th>\n",
       "      <th>minutesAvailable</th>\n",
       "      <th>requestedDeparture</th>\n",
       "    </tr>\n",
       "  </thead>\n",
       "  <tbody>\n",
       "    <tr>\n",
       "      <th>0</th>\n",
       "      <td>5e23b149f9af8b5fe4b973cf</td>\n",
       "      <td>2020-01-02 13:08:54+00:00</td>\n",
       "      <td>2020-01-02 19:11:15+00:00</td>\n",
       "      <td>2020-01-02 17:31:35+00:00</td>\n",
       "      <td>25.016</td>\n",
       "      <td>1_1_179_810_2020-01-02 13:08:53.870034</td>\n",
       "      <td>1</td>\n",
       "      <td>AG-3F30</td>\n",
       "      <td>1-1-179-810</td>\n",
       "      <td>America/Los_Angeles</td>\n",
       "      <td>194.0</td>\n",
       "      <td>[{'WhPerMile': 250, 'kWhRequested': 25.0, 'mil...</td>\n",
       "      <td>333</td>\n",
       "      <td>16.65</td>\n",
       "      <td>50</td>\n",
       "      <td>191</td>\n",
       "      <td>Tue, 02 Jul 2019 01:47:08 GMT</td>\n",
       "    </tr>\n",
       "    <tr>\n",
       "      <th>1</th>\n",
       "      <td>5e23b149f9af8b5fe4b973d0</td>\n",
       "      <td>2020-01-02 13:36:50+00:00</td>\n",
       "      <td>2020-01-02 22:38:21+00:00</td>\n",
       "      <td>2020-01-02 20:18:05+00:00</td>\n",
       "      <td>33.097</td>\n",
       "      <td>1_1_193_825_2020-01-02 13:36:49.599853</td>\n",
       "      <td>1</td>\n",
       "      <td>AG-1F01</td>\n",
       "      <td>1-1-193-825</td>\n",
       "      <td>America/Los_Angeles</td>\n",
       "      <td>4275.0</td>\n",
       "      <td>[{'WhPerMile': 280, 'kWhRequested': 70.0, 'mil...</td>\n",
       "      <td>333</td>\n",
       "      <td>16.65</td>\n",
       "      <td>50</td>\n",
       "      <td>191</td>\n",
       "      <td>Tue, 02 Jul 2019 01:47:08 GMT</td>\n",
       "    </tr>\n",
       "    <tr>\n",
       "      <th>2</th>\n",
       "      <td>5e23b149f9af8b5fe4b973d1</td>\n",
       "      <td>2020-01-02 13:56:35+00:00</td>\n",
       "      <td>2020-01-03 00:39:22+00:00</td>\n",
       "      <td>2020-01-02 16:35:06+00:00</td>\n",
       "      <td>6.521</td>\n",
       "      <td>1_1_193_829_2020-01-02 13:56:35.214993</td>\n",
       "      <td>1</td>\n",
       "      <td>AG-1F03</td>\n",
       "      <td>1-1-193-829</td>\n",
       "      <td>America/Los_Angeles</td>\n",
       "      <td>344.0</td>\n",
       "      <td>[{'WhPerMile': 400, 'kWhRequested': 8.0, 'mile...</td>\n",
       "      <td>333</td>\n",
       "      <td>16.65</td>\n",
       "      <td>50</td>\n",
       "      <td>191</td>\n",
       "      <td>Tue, 02 Jul 2019 01:47:08 GMT</td>\n",
       "    </tr>\n",
       "    <tr>\n",
       "      <th>3</th>\n",
       "      <td>5e23b149f9af8b5fe4b973d2</td>\n",
       "      <td>2020-01-02 13:59:58+00:00</td>\n",
       "      <td>2020-01-02 16:38:39+00:00</td>\n",
       "      <td>2020-01-02 15:18:45+00:00</td>\n",
       "      <td>2.355</td>\n",
       "      <td>1_1_193_820_2020-01-02 13:59:58.309319</td>\n",
       "      <td>1</td>\n",
       "      <td>AG-1F04</td>\n",
       "      <td>1-1-193-820</td>\n",
       "      <td>America/Los_Angeles</td>\n",
       "      <td>1117.0</td>\n",
       "      <td>[{'WhPerMile': 400, 'kWhRequested': 8.0, 'mile...</td>\n",
       "      <td>333</td>\n",
       "      <td>16.65</td>\n",
       "      <td>50</td>\n",
       "      <td>191</td>\n",
       "      <td>Tue, 02 Jul 2019 01:47:08 GMT</td>\n",
       "    </tr>\n",
       "    <tr>\n",
       "      <th>4</th>\n",
       "      <td>5e23b149f9af8b5fe4b973d3</td>\n",
       "      <td>2020-01-02 14:00:01+00:00</td>\n",
       "      <td>2020-01-02 22:08:40+00:00</td>\n",
       "      <td>2020-01-02 18:17:30+00:00</td>\n",
       "      <td>13.375</td>\n",
       "      <td>1_1_193_819_2020-01-02 14:00:00.779967</td>\n",
       "      <td>1</td>\n",
       "      <td>AG-1F06</td>\n",
       "      <td>1-1-193-819</td>\n",
       "      <td>America/Los_Angeles</td>\n",
       "      <td>334.0</td>\n",
       "      <td>[{'WhPerMile': 400, 'kWhRequested': 16.0, 'mil...</td>\n",
       "      <td>333</td>\n",
       "      <td>16.65</td>\n",
       "      <td>50</td>\n",
       "      <td>191</td>\n",
       "      <td>Tue, 02 Jul 2019 01:47:08 GMT</td>\n",
       "    </tr>\n",
       "  </tbody>\n",
       "</table>\n",
       "</div>"
      ],
      "text/plain": [
       "                         id             connectionTime  \\\n",
       "0  5e23b149f9af8b5fe4b973cf  2020-01-02 13:08:54+00:00   \n",
       "1  5e23b149f9af8b5fe4b973d0  2020-01-02 13:36:50+00:00   \n",
       "2  5e23b149f9af8b5fe4b973d1  2020-01-02 13:56:35+00:00   \n",
       "3  5e23b149f9af8b5fe4b973d2  2020-01-02 13:59:58+00:00   \n",
       "4  5e23b149f9af8b5fe4b973d3  2020-01-02 14:00:01+00:00   \n",
       "\n",
       "              disconnectTime           doneChargingTime  kWhDelivered  \\\n",
       "0  2020-01-02 19:11:15+00:00  2020-01-02 17:31:35+00:00        25.016   \n",
       "1  2020-01-02 22:38:21+00:00  2020-01-02 20:18:05+00:00        33.097   \n",
       "2  2020-01-03 00:39:22+00:00  2020-01-02 16:35:06+00:00         6.521   \n",
       "3  2020-01-02 16:38:39+00:00  2020-01-02 15:18:45+00:00         2.355   \n",
       "4  2020-01-02 22:08:40+00:00  2020-01-02 18:17:30+00:00        13.375   \n",
       "\n",
       "                                sessionID  siteID  spaceID    stationID  \\\n",
       "0  1_1_179_810_2020-01-02 13:08:53.870034       1  AG-3F30  1-1-179-810   \n",
       "1  1_1_193_825_2020-01-02 13:36:49.599853       1  AG-1F01  1-1-193-825   \n",
       "2  1_1_193_829_2020-01-02 13:56:35.214993       1  AG-1F03  1-1-193-829   \n",
       "3  1_1_193_820_2020-01-02 13:59:58.309319       1  AG-1F04  1-1-193-820   \n",
       "4  1_1_193_819_2020-01-02 14:00:00.779967       1  AG-1F06  1-1-193-819   \n",
       "\n",
       "              timezone  userID  \\\n",
       "0  America/Los_Angeles   194.0   \n",
       "1  America/Los_Angeles  4275.0   \n",
       "2  America/Los_Angeles   344.0   \n",
       "3  America/Los_Angeles  1117.0   \n",
       "4  America/Los_Angeles   334.0   \n",
       "\n",
       "                                          userInputs  WhPerMile  kWhRequested  \\\n",
       "0  [{'WhPerMile': 250, 'kWhRequested': 25.0, 'mil...        333         16.65   \n",
       "1  [{'WhPerMile': 280, 'kWhRequested': 70.0, 'mil...        333         16.65   \n",
       "2  [{'WhPerMile': 400, 'kWhRequested': 8.0, 'mile...        333         16.65   \n",
       "3  [{'WhPerMile': 400, 'kWhRequested': 8.0, 'mile...        333         16.65   \n",
       "4  [{'WhPerMile': 400, 'kWhRequested': 16.0, 'mil...        333         16.65   \n",
       "\n",
       "   milesRequested  minutesAvailable             requestedDeparture  \n",
       "0              50               191  Tue, 02 Jul 2019 01:47:08 GMT  \n",
       "1              50               191  Tue, 02 Jul 2019 01:47:08 GMT  \n",
       "2              50               191  Tue, 02 Jul 2019 01:47:08 GMT  \n",
       "3              50               191  Tue, 02 Jul 2019 01:47:08 GMT  \n",
       "4              50               191  Tue, 02 Jul 2019 01:47:08 GMT  "
      ]
     },
     "execution_count": 2,
     "metadata": {},
     "output_type": "execute_result"
    }
   ],
   "source": [
    "charging_sessions_data = pd.read_csv(\"cleaned_data.csv\")\n",
    "weather_data = pd.read_csv(\"weather_burbank_airport.csv\")\n",
    "\n",
    "charging_sessions_data.head(5)"
   ]
  },
  {
   "cell_type": "markdown",
   "metadata": {},
   "source": [
    "### Developing Prediction Model on hourly Utilization -> connectiontime to disconnectiontime in hours\n",
    "1. **Feature Engineering** \n",
    "* Features bestimmen (Korrelation) - Marietta\n",
    "* normalisieren/skalieren - Angela\n",
    "* enkodieren (kategorische Werte in numerische Werte umwandeln) - Coco\n",
    "2. **Find Optimal Machine Learning Method**\n",
    "* Test different ML methods and evaluate them based on one metrics\n",
    "    * Polynomial Regression - Simon\n",
    "    * Random Forest - Angela\n",
    "    * Lasso Regression - Simon\n",
    "    * Ridge Regression - Marietta\n",
    "    * neural network  - Coco\n",
    "* Choose the ML methods demonstrating the best performance\n",
    "3. **Developing Predictive Models**\n",
    "* Prediction models are developed for its charging site\n",
    "* Develop predictive model using neural networks\n",
    "* Develop predictive model using any other machine learning methods of choice (see Section 1.)\n",
    "* Use cross-validation to train the models\n",
    "* Compare predictive performance of both models on the same holdout set\n",
    "* Determine the type of model the operator should employ\n",
    "4. **Examples for Business Case**\n",
    "* Visualize data prediction to support/ enables business case\n",
    "* Make example predictions to support/ enables business case"
   ]
  },
  {
   "cell_type": "markdown",
   "metadata": {},
   "source": [
    "### 1. Find Optimal Machine Learning Method"
   ]
  },
  {
   "cell_type": "markdown",
   "metadata": {},
   "source": []
  },
  {
   "cell_type": "code",
   "execution_count": null,
   "metadata": {},
   "outputs": [],
   "source": []
  },
  {
   "cell_type": "markdown",
   "metadata": {},
   "source": [
    "#### 1.2. Polynomial Regression"
   ]
  },
  {
   "cell_type": "code",
   "execution_count": null,
   "metadata": {},
   "outputs": [],
   "source": []
  },
  {
   "cell_type": "markdown",
   "metadata": {},
   "source": [
    "### 2. Developing Predictive Models"
   ]
  },
  {
   "cell_type": "markdown",
   "metadata": {},
   "source": [
    "#### 2.1. Train Models"
   ]
  },
  {
   "cell_type": "code",
   "execution_count": null,
   "metadata": {},
   "outputs": [],
   "source": []
  },
  {
   "cell_type": "markdown",
   "metadata": {},
   "source": [
    "#### 2.2. Cross-Validation"
   ]
  },
  {
   "cell_type": "code",
   "execution_count": null,
   "metadata": {},
   "outputs": [],
   "source": []
  },
  {
   "cell_type": "markdown",
   "metadata": {},
   "source": [
    "#### 2.3. Performance Evaluation"
   ]
  },
  {
   "cell_type": "code",
   "execution_count": null,
   "metadata": {},
   "outputs": [],
   "source": []
  },
  {
   "cell_type": "markdown",
   "metadata": {},
   "source": [
    "### 3. Examples for Business Case"
   ]
  },
  {
   "cell_type": "markdown",
   "metadata": {},
   "source": [
    "#### 3.1. Visualizing Prediction Data"
   ]
  },
  {
   "cell_type": "code",
   "execution_count": null,
   "metadata": {},
   "outputs": [],
   "source": []
  },
  {
   "cell_type": "markdown",
   "metadata": {},
   "source": [
    "#### 3.2. Example Prediction"
   ]
  },
  {
   "cell_type": "code",
   "execution_count": null,
   "metadata": {},
   "outputs": [],
   "source": []
  }
 ],
 "metadata": {
  "kernelspec": {
   "display_name": "base",
   "language": "python",
   "name": "python3"
  },
  "language_info": {
   "codemirror_mode": {
    "name": "ipython",
    "version": 3
   },
   "file_extension": ".py",
   "mimetype": "text/x-python",
   "name": "python",
   "nbconvert_exporter": "python",
   "pygments_lexer": "ipython3",
   "version": "3.12.3"
  }
 },
 "nbformat": 4,
 "nbformat_minor": 2
}
